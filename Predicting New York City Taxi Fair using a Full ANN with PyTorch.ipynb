{
 "cells": [
  {
   "cell_type": "markdown",
   "metadata": {
    "id": "GJKuHCwldaX2"
   },
   "source": [
    "# **Predicting New York City Taxi Fair using a Full ANN with PyTorch**"
   ]
  },
  {
   "cell_type": "markdown",
   "metadata": {
    "id": "XA3tmsXv79dH"
   },
   "source": [
    "**Context and objective:**  \n",
    "In this use case, we are tasked with predicting the fare amount for a taxi ride in New York City given the pickup and dropoff locations. This is originally a Kaggle competition we can find on this [link](https://www.kaggle.com/competitions/new-york-city-taxi-fare-prediction/overview). In the description, it is mentionned that we can get a basic estimate based on just the distance between the two points that will result in an RMSE of $5-$8 depending on the model used. The challenge is to do better than this using Machine Learning techniques. In this work, I used a full artificial neural network with the PyTorch framework that I tested on subset of the original dataset, this resulted in an RSME of 3.79."
   ]
  },
  {
   "cell_type": "markdown",
   "metadata": {
    "id": "48BLWK6nDr_E"
   },
   "source": [
    "**Dataset:**  \n",
    "\n",
    "The dataset contains 6 features and 1 target.\n",
    "- pickup_datetime: time when the taxi ride started.\n",
    "- pickup_longitude: longitude coordinate of the pickup ride.\n",
    "- pickup_latitude: latitude coordinate of the pickup ride.\n",
    "- dropoff_longitude: longitude coordinate of the dropoff ride.\n",
    "- dropoff_latitude: latitude coordinate of the dropoff ride.\n",
    "- passenget_count: the number of passengers.\n",
    "- fare_amount: this is the target variable indicating the dollar amount of the taxi ride.\n",
    "\n",
    "Because of computational limitations I have on my computer, I used a subset of 120000 observations from the original dataset that contains 55 million observations."
   ]
  },
  {
   "cell_type": "markdown",
   "metadata": {
    "id": "NEv2slTyGUza"
   },
   "source": [
    "**Note:** this code was written on Google Colab.  \n",
    "**Programming language:** Python.  \n",
    "**Packages:** numpy, pandas, time, pytorch, matplotlib.  "
   ]
  },
  {
   "cell_type": "markdown",
   "metadata": {
    "id": "rlWy9cgeHct7"
   },
   "source": [
    "**Import libraries**"
   ]
  },
  {
   "cell_type": "code",
   "execution_count": 2,
   "metadata": {
    "executionInfo": {
     "elapsed": 2084,
     "status": "ok",
     "timestamp": 1686650773304,
     "user": {
      "displayName": "Sofiane Ikkour",
      "userId": "12163968403439377340"
     },
     "user_tz": -120
    },
    "id": "TrS_II-ZdV4s"
   },
   "outputs": [],
   "source": [
    "# import the relevant libraries\n",
    "import numpy as np\n",
    "import pandas as pd\n",
    "import time\n",
    "import torch\n",
    "import torch.nn as nn\n",
    "import matplotlib.pyplot as plt"
   ]
  },
  {
   "cell_type": "markdown",
   "metadata": {
    "id": "qtCnALsKsgzb"
   },
   "source": [
    "**Read and explore the data**"
   ]
  },
  {
   "cell_type": "code",
   "execution_count": 5,
   "metadata": {
    "colab": {
     "base_uri": "https://localhost:8080/",
     "height": 261
    },
    "executionInfo": {
     "elapsed": 155759,
     "status": "ok",
     "timestamp": 1686650981147,
     "user": {
      "displayName": "Sofiane Ikkour",
      "userId": "12163968403439377340"
     },
     "user_tz": -120
    },
    "id": "0NYYt1Ukh8lj",
    "outputId": "03c199f6-6c57-4294-b009-aa61b4aeddc1"
   },
   "outputs": [
    {
     "data": {
      "text/html": [
       "<div>\n",
       "<style scoped>\n",
       "    .dataframe tbody tr th:only-of-type {\n",
       "        vertical-align: middle;\n",
       "    }\n",
       "\n",
       "    .dataframe tbody tr th {\n",
       "        vertical-align: top;\n",
       "    }\n",
       "\n",
       "    .dataframe thead th {\n",
       "        text-align: right;\n",
       "    }\n",
       "</style>\n",
       "<table border=\"1\" class=\"dataframe\">\n",
       "  <thead>\n",
       "    <tr style=\"text-align: right;\">\n",
       "      <th></th>\n",
       "      <th>key</th>\n",
       "      <th>fare_amount</th>\n",
       "      <th>pickup_datetime</th>\n",
       "      <th>pickup_longitude</th>\n",
       "      <th>pickup_latitude</th>\n",
       "      <th>dropoff_longitude</th>\n",
       "      <th>dropoff_latitude</th>\n",
       "      <th>passenger_count</th>\n",
       "    </tr>\n",
       "  </thead>\n",
       "  <tbody>\n",
       "    <tr>\n",
       "      <th>0</th>\n",
       "      <td>2009-06-15 17:26:21.0000001</td>\n",
       "      <td>4.5</td>\n",
       "      <td>2009-06-15 17:26:21 UTC</td>\n",
       "      <td>-73.844311</td>\n",
       "      <td>40.721319</td>\n",
       "      <td>-73.841610</td>\n",
       "      <td>40.712278</td>\n",
       "      <td>1</td>\n",
       "    </tr>\n",
       "    <tr>\n",
       "      <th>1</th>\n",
       "      <td>2010-01-05 16:52:16.0000002</td>\n",
       "      <td>16.9</td>\n",
       "      <td>2010-01-05 16:52:16 UTC</td>\n",
       "      <td>-74.016048</td>\n",
       "      <td>40.711303</td>\n",
       "      <td>-73.979268</td>\n",
       "      <td>40.782004</td>\n",
       "      <td>1</td>\n",
       "    </tr>\n",
       "    <tr>\n",
       "      <th>2</th>\n",
       "      <td>2011-08-18 00:35:00.00000049</td>\n",
       "      <td>5.7</td>\n",
       "      <td>2011-08-18 00:35:00 UTC</td>\n",
       "      <td>-73.982738</td>\n",
       "      <td>40.761270</td>\n",
       "      <td>-73.991242</td>\n",
       "      <td>40.750562</td>\n",
       "      <td>2</td>\n",
       "    </tr>\n",
       "    <tr>\n",
       "      <th>3</th>\n",
       "      <td>2012-04-21 04:30:42.0000001</td>\n",
       "      <td>7.7</td>\n",
       "      <td>2012-04-21 04:30:42 UTC</td>\n",
       "      <td>-73.987130</td>\n",
       "      <td>40.733143</td>\n",
       "      <td>-73.991567</td>\n",
       "      <td>40.758092</td>\n",
       "      <td>1</td>\n",
       "    </tr>\n",
       "    <tr>\n",
       "      <th>4</th>\n",
       "      <td>2010-03-09 07:51:00.000000135</td>\n",
       "      <td>5.3</td>\n",
       "      <td>2010-03-09 07:51:00 UTC</td>\n",
       "      <td>-73.968095</td>\n",
       "      <td>40.768008</td>\n",
       "      <td>-73.956655</td>\n",
       "      <td>40.783762</td>\n",
       "      <td>1</td>\n",
       "    </tr>\n",
       "  </tbody>\n",
       "</table>\n",
       "</div>"
      ],
      "text/plain": [
       "                             key  fare_amount          pickup_datetime  \\\n",
       "0    2009-06-15 17:26:21.0000001          4.5  2009-06-15 17:26:21 UTC   \n",
       "1    2010-01-05 16:52:16.0000002         16.9  2010-01-05 16:52:16 UTC   \n",
       "2   2011-08-18 00:35:00.00000049          5.7  2011-08-18 00:35:00 UTC   \n",
       "3    2012-04-21 04:30:42.0000001          7.7  2012-04-21 04:30:42 UTC   \n",
       "4  2010-03-09 07:51:00.000000135          5.3  2010-03-09 07:51:00 UTC   \n",
       "\n",
       "   pickup_longitude  pickup_latitude  dropoff_longitude  dropoff_latitude  \\\n",
       "0        -73.844311        40.721319         -73.841610         40.712278   \n",
       "1        -74.016048        40.711303         -73.979268         40.782004   \n",
       "2        -73.982738        40.761270         -73.991242         40.750562   \n",
       "3        -73.987130        40.733143         -73.991567         40.758092   \n",
       "4        -73.968095        40.768008         -73.956655         40.783762   \n",
       "\n",
       "   passenger_count  \n",
       "0                1  \n",
       "1                1  \n",
       "2                2  \n",
       "3                1  \n",
       "4                1  "
      ]
     },
     "execution_count": 5,
     "metadata": {},
     "output_type": "execute_result"
    }
   ],
   "source": [
    "# read the dataset\n",
    "df = pd.read_csv('C:/Users/sofia/Documents/IT/Datasets/TaxiFaires.csv', delimiter = ';')\n",
    "df.head() # print the first five rows"
   ]
  },
  {
   "cell_type": "code",
   "execution_count": null,
   "metadata": {},
   "outputs": [],
   "source": [
    "# read the dataset\n",
    "df = pd.read_csv(io.BytesIO(uploaded['TaxiFares.csv']), delimiter = ';')\n",
    "df.head() # print the first five rows"
   ]
  },
  {
   "cell_type": "code",
   "execution_count": 6,
   "metadata": {
    "colab": {
     "base_uri": "https://localhost:8080/"
    },
    "executionInfo": {
     "elapsed": 7,
     "status": "ok",
     "timestamp": 1686648326349,
     "user": {
      "displayName": "Sofiane Ikkour",
      "userId": "12163968403439377340"
     },
     "user_tz": -120
    },
    "id": "N7zni8a_jiRO",
    "outputId": "a96fea80-1aff-4b53-c109-2e94be347849"
   },
   "outputs": [
    {
     "data": {
      "text/plain": [
       "(188384, 8)"
      ]
     },
     "execution_count": 6,
     "metadata": {},
     "output_type": "execute_result"
    }
   ],
   "source": [
    "# print shape of the dataset\n",
    "df.shape"
   ]
  },
  {
   "cell_type": "code",
   "execution_count": 7,
   "metadata": {
    "colab": {
     "base_uri": "https://localhost:8080/"
    },
    "executionInfo": {
     "elapsed": 697,
     "status": "ok",
     "timestamp": 1686648328173,
     "user": {
      "displayName": "Sofiane Ikkour",
      "userId": "12163968403439377340"
     },
     "user_tz": -120
    },
    "id": "DhUCKwJhs6JM",
    "outputId": "6f3282c9-edaa-4b84-e76d-f3c5e3d7b559"
   },
   "outputs": [
    {
     "data": {
      "text/plain": [
       "key                  0\n",
       "fare_amount          0\n",
       "pickup_datetime      0\n",
       "pickup_longitude     0\n",
       "pickup_latitude      0\n",
       "dropoff_longitude    2\n",
       "dropoff_latitude     2\n",
       "passenger_count      0\n",
       "dtype: int64"
      ]
     },
     "execution_count": 7,
     "metadata": {},
     "output_type": "execute_result"
    }
   ],
   "source": [
    "# check for missing values\n",
    "df.isnull().sum()"
   ]
  },
  {
   "cell_type": "code",
   "execution_count": 8,
   "metadata": {
    "colab": {
     "base_uri": "https://localhost:8080/",
     "height": 112
    },
    "executionInfo": {
     "elapsed": 277,
     "status": "ok",
     "timestamp": 1686648330860,
     "user": {
      "displayName": "Sofiane Ikkour",
      "userId": "12163968403439377340"
     },
     "user_tz": -120
    },
    "id": "Uj6XZjXXz_tM",
    "outputId": "6eb493d7-e5b5-4036-f9d4-b2e453406c43"
   },
   "outputs": [
    {
     "data": {
      "text/html": [
       "<div>\n",
       "<style scoped>\n",
       "    .dataframe tbody tr th:only-of-type {\n",
       "        vertical-align: middle;\n",
       "    }\n",
       "\n",
       "    .dataframe tbody tr th {\n",
       "        vertical-align: top;\n",
       "    }\n",
       "\n",
       "    .dataframe thead th {\n",
       "        text-align: right;\n",
       "    }\n",
       "</style>\n",
       "<table border=\"1\" class=\"dataframe\">\n",
       "  <thead>\n",
       "    <tr style=\"text-align: right;\">\n",
       "      <th></th>\n",
       "      <th>key</th>\n",
       "      <th>fare_amount</th>\n",
       "      <th>pickup_datetime</th>\n",
       "      <th>pickup_longitude</th>\n",
       "      <th>pickup_latitude</th>\n",
       "      <th>dropoff_longitude</th>\n",
       "      <th>dropoff_latitude</th>\n",
       "      <th>passenger_count</th>\n",
       "    </tr>\n",
       "  </thead>\n",
       "  <tbody>\n",
       "    <tr>\n",
       "      <th>29626</th>\n",
       "      <td>2012-12-11 12:57:00.00000013</td>\n",
       "      <td>12.5</td>\n",
       "      <td>2012-12-11 12:57:00 UTC</td>\n",
       "      <td>-73.992760</td>\n",
       "      <td>40.743098</td>\n",
       "      <td>NaN</td>\n",
       "      <td>NaN</td>\n",
       "      <td>0</td>\n",
       "    </tr>\n",
       "    <tr>\n",
       "      <th>51129</th>\n",
       "      <td>2013-03-21 18:07:07.0000001</td>\n",
       "      <td>86.5</td>\n",
       "      <td>2013-03-21 18:07:07 UTC</td>\n",
       "      <td>-73.991572</td>\n",
       "      <td>40.740591</td>\n",
       "      <td>NaN</td>\n",
       "      <td>NaN</td>\n",
       "      <td>0</td>\n",
       "    </tr>\n",
       "  </tbody>\n",
       "</table>\n",
       "</div>"
      ],
      "text/plain": [
       "                                key  fare_amount          pickup_datetime  \\\n",
       "29626  2012-12-11 12:57:00.00000013         12.5  2012-12-11 12:57:00 UTC   \n",
       "51129   2013-03-21 18:07:07.0000001         86.5  2013-03-21 18:07:07 UTC   \n",
       "\n",
       "       pickup_longitude  pickup_latitude  dropoff_longitude  dropoff_latitude  \\\n",
       "29626        -73.992760        40.743098                NaN               NaN   \n",
       "51129        -73.991572        40.740591                NaN               NaN   \n",
       "\n",
       "       passenger_count  \n",
       "29626                0  \n",
       "51129                0  "
      ]
     },
     "execution_count": 8,
     "metadata": {},
     "output_type": "execute_result"
    }
   ],
   "source": [
    "# the dataframe contains 2 missing values in the \"dropoff_longitude\" column and 2 other missing values in the \"dropoff_latitude\" column\n",
    "# let's deal with these missing values\n",
    "df[df['dropoff_longitude'].isnull() & df['dropoff_latitude'].isnull()]"
   ]
  },
  {
   "cell_type": "code",
   "execution_count": 9,
   "metadata": {
    "colab": {
     "base_uri": "https://localhost:8080/"
    },
    "executionInfo": {
     "elapsed": 287,
     "status": "ok",
     "timestamp": 1686651133667,
     "user": {
      "displayName": "Sofiane Ikkour",
      "userId": "12163968403439377340"
     },
     "user_tz": -120
    },
    "id": "hhl2FGJG2HV5",
    "outputId": "555260b0-ea6e-4ab2-a013-93ddf2bd1bcd"
   },
   "outputs": [
    {
     "data": {
      "text/plain": [
       "key                  0\n",
       "fare_amount          0\n",
       "pickup_datetime      0\n",
       "pickup_longitude     0\n",
       "pickup_latitude      0\n",
       "dropoff_longitude    0\n",
       "dropoff_latitude     0\n",
       "passenger_count      0\n",
       "dtype: int64"
      ]
     },
     "execution_count": 9,
     "metadata": {},
     "output_type": "execute_result"
    }
   ],
   "source": [
    "# we can confirm that only two rows contain the missing values\n",
    "# let's drop them\n",
    "df2 = df[df['dropoff_longitude'].notnull() & df['dropoff_latitude'].notnull()]\n",
    "\n",
    "# check for missing values\n",
    "df2.isnull().sum()"
   ]
  },
  {
   "cell_type": "code",
   "execution_count": 10,
   "metadata": {
    "colab": {
     "base_uri": "https://localhost:8080/",
     "height": 300
    },
    "executionInfo": {
     "elapsed": 21,
     "status": "ok",
     "timestamp": 1686648335358,
     "user": {
      "displayName": "Sofiane Ikkour",
      "userId": "12163968403439377340"
     },
     "user_tz": -120
    },
    "id": "0JXipBzS_g69",
    "outputId": "7d5fe970-f850-4268-a98f-e65f14573c22"
   },
   "outputs": [
    {
     "data": {
      "text/html": [
       "<div>\n",
       "<style scoped>\n",
       "    .dataframe tbody tr th:only-of-type {\n",
       "        vertical-align: middle;\n",
       "    }\n",
       "\n",
       "    .dataframe tbody tr th {\n",
       "        vertical-align: top;\n",
       "    }\n",
       "\n",
       "    .dataframe thead th {\n",
       "        text-align: right;\n",
       "    }\n",
       "</style>\n",
       "<table border=\"1\" class=\"dataframe\">\n",
       "  <thead>\n",
       "    <tr style=\"text-align: right;\">\n",
       "      <th></th>\n",
       "      <th>fare_amount</th>\n",
       "      <th>pickup_longitude</th>\n",
       "      <th>pickup_latitude</th>\n",
       "      <th>dropoff_longitude</th>\n",
       "      <th>dropoff_latitude</th>\n",
       "      <th>passenger_count</th>\n",
       "    </tr>\n",
       "  </thead>\n",
       "  <tbody>\n",
       "    <tr>\n",
       "      <th>count</th>\n",
       "      <td>188382.000000</td>\n",
       "      <td>188382.000000</td>\n",
       "      <td>188382.000000</td>\n",
       "      <td>188382.000000</td>\n",
       "      <td>188382.000000</td>\n",
       "      <td>188382.000000</td>\n",
       "    </tr>\n",
       "    <tr>\n",
       "      <th>mean</th>\n",
       "      <td>10.528496</td>\n",
       "      <td>-73.975044</td>\n",
       "      <td>40.747769</td>\n",
       "      <td>-73.913800</td>\n",
       "      <td>40.718420</td>\n",
       "      <td>1.731392</td>\n",
       "    </tr>\n",
       "    <tr>\n",
       "      <th>std</th>\n",
       "      <td>8.266386</td>\n",
       "      <td>0.748796</td>\n",
       "      <td>1.143256</td>\n",
       "      <td>3.532799</td>\n",
       "      <td>1.810428</td>\n",
       "      <td>1.359297</td>\n",
       "    </tr>\n",
       "    <tr>\n",
       "      <th>min</th>\n",
       "      <td>-3.000000</td>\n",
       "      <td>-74.438233</td>\n",
       "      <td>-74.006893</td>\n",
       "      <td>-740.000000</td>\n",
       "      <td>-74.006377</td>\n",
       "      <td>0.000000</td>\n",
       "    </tr>\n",
       "    <tr>\n",
       "      <th>25%</th>\n",
       "      <td>6.000000</td>\n",
       "      <td>-73.991312</td>\n",
       "      <td>40.738011</td>\n",
       "      <td>-73.991811</td>\n",
       "      <td>40.735678</td>\n",
       "      <td>1.000000</td>\n",
       "    </tr>\n",
       "    <tr>\n",
       "      <th>50%</th>\n",
       "      <td>8.100000</td>\n",
       "      <td>-73.983507</td>\n",
       "      <td>40.752162</td>\n",
       "      <td>-73.981492</td>\n",
       "      <td>40.753226</td>\n",
       "      <td>1.000000</td>\n",
       "    </tr>\n",
       "    <tr>\n",
       "      <th>75%</th>\n",
       "      <td>12.000000</td>\n",
       "      <td>-73.976202</td>\n",
       "      <td>40.764632</td>\n",
       "      <td>-73.968329</td>\n",
       "      <td>40.767383</td>\n",
       "      <td>2.000000</td>\n",
       "    </tr>\n",
       "    <tr>\n",
       "      <th>max</th>\n",
       "      <td>250.250000</td>\n",
       "      <td>40.766125</td>\n",
       "      <td>401.083332</td>\n",
       "      <td>40.802437</td>\n",
       "      <td>404.716667</td>\n",
       "      <td>6.000000</td>\n",
       "    </tr>\n",
       "  </tbody>\n",
       "</table>\n",
       "</div>"
      ],
      "text/plain": [
       "         fare_amount  pickup_longitude  pickup_latitude  dropoff_longitude  \\\n",
       "count  188382.000000     188382.000000    188382.000000      188382.000000   \n",
       "mean       10.528496        -73.975044        40.747769         -73.913800   \n",
       "std         8.266386          0.748796         1.143256           3.532799   \n",
       "min        -3.000000        -74.438233       -74.006893        -740.000000   \n",
       "25%         6.000000        -73.991312        40.738011         -73.991811   \n",
       "50%         8.100000        -73.983507        40.752162         -73.981492   \n",
       "75%        12.000000        -73.976202        40.764632         -73.968329   \n",
       "max       250.250000         40.766125       401.083332          40.802437   \n",
       "\n",
       "       dropoff_latitude  passenger_count  \n",
       "count     188382.000000    188382.000000  \n",
       "mean          40.718420         1.731392  \n",
       "std            1.810428         1.359297  \n",
       "min          -74.006377         0.000000  \n",
       "25%           40.735678         1.000000  \n",
       "50%           40.753226         1.000000  \n",
       "75%           40.767383         2.000000  \n",
       "max          404.716667         6.000000  "
      ]
     },
     "execution_count": 10,
     "metadata": {},
     "output_type": "execute_result"
    }
   ],
   "source": [
    "# descriptive statistics\n",
    "df2.describe()"
   ]
  },
  {
   "cell_type": "code",
   "execution_count": 11,
   "metadata": {
    "colab": {
     "base_uri": "https://localhost:8080/",
     "height": 112
    },
    "executionInfo": {
     "elapsed": 318,
     "status": "ok",
     "timestamp": 1686651137176,
     "user": {
      "displayName": "Sofiane Ikkour",
      "userId": "12163968403439377340"
     },
     "user_tz": -120
    },
    "id": "2efCPIhZ75Wy",
    "outputId": "61cfb3cc-4f73-4995-ae31-be6f251a4fee"
   },
   "outputs": [
    {
     "data": {
      "text/html": [
       "<div>\n",
       "<style scoped>\n",
       "    .dataframe tbody tr th:only-of-type {\n",
       "        vertical-align: middle;\n",
       "    }\n",
       "\n",
       "    .dataframe tbody tr th {\n",
       "        vertical-align: top;\n",
       "    }\n",
       "\n",
       "    .dataframe thead th {\n",
       "        text-align: right;\n",
       "    }\n",
       "</style>\n",
       "<table border=\"1\" class=\"dataframe\">\n",
       "  <thead>\n",
       "    <tr style=\"text-align: right;\">\n",
       "      <th></th>\n",
       "      <th>key</th>\n",
       "      <th>fare_amount</th>\n",
       "      <th>pickup_datetime</th>\n",
       "      <th>pickup_longitude</th>\n",
       "      <th>pickup_latitude</th>\n",
       "      <th>dropoff_longitude</th>\n",
       "      <th>dropoff_latitude</th>\n",
       "      <th>passenger_count</th>\n",
       "    </tr>\n",
       "  </thead>\n",
       "  <tbody>\n",
       "    <tr>\n",
       "      <th>60579</th>\n",
       "      <td>2015-03-28 01:42:18.0000008</td>\n",
       "      <td>-3.0</td>\n",
       "      <td>2015-03-28 01:42:18 UTC</td>\n",
       "      <td>-74.004997</td>\n",
       "      <td>40.730244</td>\n",
       "      <td>-74.006699</td>\n",
       "      <td>40.730198</td>\n",
       "      <td>1</td>\n",
       "    </tr>\n",
       "    <tr>\n",
       "      <th>137166</th>\n",
       "      <td>2013-08-29 11:51:10.0000004</td>\n",
       "      <td>-3.0</td>\n",
       "      <td>2013-08-29 11:51:10 UTC</td>\n",
       "      <td>-73.984460</td>\n",
       "      <td>40.759835</td>\n",
       "      <td>-73.985620</td>\n",
       "      <td>40.757950</td>\n",
       "      <td>1</td>\n",
       "    </tr>\n",
       "  </tbody>\n",
       "</table>\n",
       "</div>"
      ],
      "text/plain": [
       "                                key  fare_amount          pickup_datetime  \\\n",
       "60579   2015-03-28 01:42:18.0000008         -3.0  2015-03-28 01:42:18 UTC   \n",
       "137166  2013-08-29 11:51:10.0000004         -3.0  2013-08-29 11:51:10 UTC   \n",
       "\n",
       "        pickup_longitude  pickup_latitude  dropoff_longitude  \\\n",
       "60579         -74.004997        40.730244         -74.006699   \n",
       "137166        -73.984460        40.759835         -73.985620   \n",
       "\n",
       "        dropoff_latitude  passenger_count  \n",
       "60579          40.730198                1  \n",
       "137166         40.757950                1  "
      ]
     },
     "execution_count": 11,
     "metadata": {},
     "output_type": "execute_result"
    }
   ],
   "source": [
    "# the descriptive statistics show that there is a problem with the fare amount in which the minimum value is -3 dollars\n",
    "# in addition there is a minimum number of passengers equals to 0\n",
    "# let's check the data again to see how many rows we have with these values\n",
    "# df2[(df2['fare_amount'] == -3.0) | (df2['passenger_count'] == 0)]\n",
    "df2[df2['fare_amount'] == -3.0]"
   ]
  },
  {
   "cell_type": "code",
   "execution_count": 12,
   "metadata": {
    "colab": {
     "base_uri": "https://localhost:8080/",
     "height": 423
    },
    "executionInfo": {
     "elapsed": 316,
     "status": "ok",
     "timestamp": 1686648340985,
     "user": {
      "displayName": "Sofiane Ikkour",
      "userId": "12163968403439377340"
     },
     "user_tz": -120
    },
    "id": "x76EGRVL_HoR",
    "outputId": "51367ba0-0648-49d1-bb19-60dd0596e87d"
   },
   "outputs": [
    {
     "data": {
      "text/html": [
       "<div>\n",
       "<style scoped>\n",
       "    .dataframe tbody tr th:only-of-type {\n",
       "        vertical-align: middle;\n",
       "    }\n",
       "\n",
       "    .dataframe tbody tr th {\n",
       "        vertical-align: top;\n",
       "    }\n",
       "\n",
       "    .dataframe thead th {\n",
       "        text-align: right;\n",
       "    }\n",
       "</style>\n",
       "<table border=\"1\" class=\"dataframe\">\n",
       "  <thead>\n",
       "    <tr style=\"text-align: right;\">\n",
       "      <th></th>\n",
       "      <th>key</th>\n",
       "      <th>fare_amount</th>\n",
       "      <th>pickup_datetime</th>\n",
       "      <th>pickup_longitude</th>\n",
       "      <th>pickup_latitude</th>\n",
       "      <th>dropoff_longitude</th>\n",
       "      <th>dropoff_latitude</th>\n",
       "      <th>passenger_count</th>\n",
       "    </tr>\n",
       "  </thead>\n",
       "  <tbody>\n",
       "    <tr>\n",
       "      <th>307</th>\n",
       "      <td>2015-06-02 23:16:15.00000012</td>\n",
       "      <td>34.0</td>\n",
       "      <td>2015-06-02 23:16:15 UTC</td>\n",
       "      <td>-73.974899</td>\n",
       "      <td>40.751095</td>\n",
       "      <td>-73.908546</td>\n",
       "      <td>40.881878</td>\n",
       "      <td>0</td>\n",
       "    </tr>\n",
       "    <tr>\n",
       "      <th>552</th>\n",
       "      <td>2012-01-28 21:33:18.0000002</td>\n",
       "      <td>4.9</td>\n",
       "      <td>2012-01-28 21:33:18 UTC</td>\n",
       "      <td>-73.955322</td>\n",
       "      <td>40.782840</td>\n",
       "      <td>-73.955797</td>\n",
       "      <td>40.773673</td>\n",
       "      <td>0</td>\n",
       "    </tr>\n",
       "    <tr>\n",
       "      <th>662</th>\n",
       "      <td>2012-02-27 07:24:20.0000003</td>\n",
       "      <td>6.5</td>\n",
       "      <td>2012-02-27 07:24:20 UTC</td>\n",
       "      <td>-73.983397</td>\n",
       "      <td>40.738183</td>\n",
       "      <td>-73.971395</td>\n",
       "      <td>40.758023</td>\n",
       "      <td>0</td>\n",
       "    </tr>\n",
       "    <tr>\n",
       "      <th>1135</th>\n",
       "      <td>2011-05-25 23:58:48.0000001</td>\n",
       "      <td>13.3</td>\n",
       "      <td>2011-05-25 23:58:48 UTC</td>\n",
       "      <td>-73.998360</td>\n",
       "      <td>40.740348</td>\n",
       "      <td>-73.946455</td>\n",
       "      <td>40.777348</td>\n",
       "      <td>0</td>\n",
       "    </tr>\n",
       "    <tr>\n",
       "      <th>1894</th>\n",
       "      <td>2011-10-23 11:09:28.0000001</td>\n",
       "      <td>10.1</td>\n",
       "      <td>2011-10-23 11:09:28 UTC</td>\n",
       "      <td>-73.971400</td>\n",
       "      <td>40.795000</td>\n",
       "      <td>-73.967900</td>\n",
       "      <td>40.768600</td>\n",
       "      <td>0</td>\n",
       "    </tr>\n",
       "    <tr>\n",
       "      <th>...</th>\n",
       "      <td>...</td>\n",
       "      <td>...</td>\n",
       "      <td>...</td>\n",
       "      <td>...</td>\n",
       "      <td>...</td>\n",
       "      <td>...</td>\n",
       "      <td>...</td>\n",
       "      <td>...</td>\n",
       "    </tr>\n",
       "    <tr>\n",
       "      <th>187344</th>\n",
       "      <td>2011-06-11 20:21:57.0000002</td>\n",
       "      <td>7.3</td>\n",
       "      <td>2011-06-11 20:21:57 UTC</td>\n",
       "      <td>-73.991400</td>\n",
       "      <td>40.770200</td>\n",
       "      <td>-73.989000</td>\n",
       "      <td>40.758200</td>\n",
       "      <td>0</td>\n",
       "    </tr>\n",
       "    <tr>\n",
       "      <th>187609</th>\n",
       "      <td>2012-02-06 23:45:01.0000003</td>\n",
       "      <td>5.7</td>\n",
       "      <td>2012-02-06 23:45:01 UTC</td>\n",
       "      <td>-73.982263</td>\n",
       "      <td>40.731633</td>\n",
       "      <td>-73.970632</td>\n",
       "      <td>40.751625</td>\n",
       "      <td>0</td>\n",
       "    </tr>\n",
       "    <tr>\n",
       "      <th>187715</th>\n",
       "      <td>2011-08-31 14:53:00.00000030</td>\n",
       "      <td>5.7</td>\n",
       "      <td>2011-08-31 14:53:00 UTC</td>\n",
       "      <td>-73.978100</td>\n",
       "      <td>40.752600</td>\n",
       "      <td>-73.989000</td>\n",
       "      <td>40.758400</td>\n",
       "      <td>0</td>\n",
       "    </tr>\n",
       "    <tr>\n",
       "      <th>187828</th>\n",
       "      <td>2011-10-07 11:55:18.0000001</td>\n",
       "      <td>4.9</td>\n",
       "      <td>2011-10-07 11:55:18 UTC</td>\n",
       "      <td>-73.995200</td>\n",
       "      <td>40.744600</td>\n",
       "      <td>-74.004700</td>\n",
       "      <td>40.731900</td>\n",
       "      <td>0</td>\n",
       "    </tr>\n",
       "    <tr>\n",
       "      <th>188183</th>\n",
       "      <td>2011-10-06 15:18:31.0000004</td>\n",
       "      <td>8.9</td>\n",
       "      <td>2011-10-06 15:18:31 UTC</td>\n",
       "      <td>-73.993100</td>\n",
       "      <td>40.753300</td>\n",
       "      <td>-73.978600</td>\n",
       "      <td>40.776500</td>\n",
       "      <td>0</td>\n",
       "    </tr>\n",
       "  </tbody>\n",
       "</table>\n",
       "<p>950 rows × 8 columns</p>\n",
       "</div>"
      ],
      "text/plain": [
       "                                 key  fare_amount          pickup_datetime  \\\n",
       "307     2015-06-02 23:16:15.00000012         34.0  2015-06-02 23:16:15 UTC   \n",
       "552      2012-01-28 21:33:18.0000002          4.9  2012-01-28 21:33:18 UTC   \n",
       "662      2012-02-27 07:24:20.0000003          6.5  2012-02-27 07:24:20 UTC   \n",
       "1135     2011-05-25 23:58:48.0000001         13.3  2011-05-25 23:58:48 UTC   \n",
       "1894     2011-10-23 11:09:28.0000001         10.1  2011-10-23 11:09:28 UTC   \n",
       "...                              ...          ...                      ...   \n",
       "187344   2011-06-11 20:21:57.0000002          7.3  2011-06-11 20:21:57 UTC   \n",
       "187609   2012-02-06 23:45:01.0000003          5.7  2012-02-06 23:45:01 UTC   \n",
       "187715  2011-08-31 14:53:00.00000030          5.7  2011-08-31 14:53:00 UTC   \n",
       "187828   2011-10-07 11:55:18.0000001          4.9  2011-10-07 11:55:18 UTC   \n",
       "188183   2011-10-06 15:18:31.0000004          8.9  2011-10-06 15:18:31 UTC   \n",
       "\n",
       "        pickup_longitude  pickup_latitude  dropoff_longitude  \\\n",
       "307           -73.974899        40.751095         -73.908546   \n",
       "552           -73.955322        40.782840         -73.955797   \n",
       "662           -73.983397        40.738183         -73.971395   \n",
       "1135          -73.998360        40.740348         -73.946455   \n",
       "1894          -73.971400        40.795000         -73.967900   \n",
       "...                  ...              ...                ...   \n",
       "187344        -73.991400        40.770200         -73.989000   \n",
       "187609        -73.982263        40.731633         -73.970632   \n",
       "187715        -73.978100        40.752600         -73.989000   \n",
       "187828        -73.995200        40.744600         -74.004700   \n",
       "188183        -73.993100        40.753300         -73.978600   \n",
       "\n",
       "        dropoff_latitude  passenger_count  \n",
       "307            40.881878                0  \n",
       "552            40.773673                0  \n",
       "662            40.758023                0  \n",
       "1135           40.777348                0  \n",
       "1894           40.768600                0  \n",
       "...                  ...              ...  \n",
       "187344         40.758200                0  \n",
       "187609         40.751625                0  \n",
       "187715         40.758400                0  \n",
       "187828         40.731900                0  \n",
       "188183         40.776500                0  \n",
       "\n",
       "[950 rows x 8 columns]"
      ]
     },
     "execution_count": 12,
     "metadata": {},
     "output_type": "execute_result"
    }
   ],
   "source": [
    "df2[df2['passenger_count'] == 0]"
   ]
  },
  {
   "cell_type": "code",
   "execution_count": 13,
   "metadata": {
    "colab": {
     "base_uri": "https://localhost:8080/",
     "height": 300
    },
    "executionInfo": {
     "elapsed": 1008,
     "status": "ok",
     "timestamp": 1686651140777,
     "user": {
      "displayName": "Sofiane Ikkour",
      "userId": "12163968403439377340"
     },
     "user_tz": -120
    },
    "id": "E-UM_Vdw_TS9",
    "outputId": "f3240f98-6ffe-438b-f371-3d3fb9ba8502"
   },
   "outputs": [
    {
     "data": {
      "text/html": [
       "<div>\n",
       "<style scoped>\n",
       "    .dataframe tbody tr th:only-of-type {\n",
       "        vertical-align: middle;\n",
       "    }\n",
       "\n",
       "    .dataframe tbody tr th {\n",
       "        vertical-align: top;\n",
       "    }\n",
       "\n",
       "    .dataframe thead th {\n",
       "        text-align: right;\n",
       "    }\n",
       "</style>\n",
       "<table border=\"1\" class=\"dataframe\">\n",
       "  <thead>\n",
       "    <tr style=\"text-align: right;\">\n",
       "      <th></th>\n",
       "      <th>fare_amount</th>\n",
       "      <th>pickup_longitude</th>\n",
       "      <th>pickup_latitude</th>\n",
       "      <th>dropoff_longitude</th>\n",
       "      <th>dropoff_latitude</th>\n",
       "      <th>passenger_count</th>\n",
       "    </tr>\n",
       "  </thead>\n",
       "  <tbody>\n",
       "    <tr>\n",
       "      <th>count</th>\n",
       "      <td>187420.000000</td>\n",
       "      <td>187420.000000</td>\n",
       "      <td>187420.000000</td>\n",
       "      <td>187420.000000</td>\n",
       "      <td>187420.000000</td>\n",
       "      <td>187420.000000</td>\n",
       "    </tr>\n",
       "    <tr>\n",
       "      <th>mean</th>\n",
       "      <td>10.539839</td>\n",
       "      <td>-73.975021</td>\n",
       "      <td>40.747747</td>\n",
       "      <td>-73.914662</td>\n",
       "      <td>40.718898</td>\n",
       "      <td>1.740204</td>\n",
       "    </tr>\n",
       "    <tr>\n",
       "      <th>std</th>\n",
       "      <td>8.276334</td>\n",
       "      <td>0.750711</td>\n",
       "      <td>1.146184</td>\n",
       "      <td>3.529483</td>\n",
       "      <td>1.807740</td>\n",
       "      <td>1.357155</td>\n",
       "    </tr>\n",
       "    <tr>\n",
       "      <th>min</th>\n",
       "      <td>2.500000</td>\n",
       "      <td>-74.438233</td>\n",
       "      <td>-74.006893</td>\n",
       "      <td>-740.000000</td>\n",
       "      <td>-74.006377</td>\n",
       "      <td>1.000000</td>\n",
       "    </tr>\n",
       "    <tr>\n",
       "      <th>25%</th>\n",
       "      <td>6.000000</td>\n",
       "      <td>-73.991312</td>\n",
       "      <td>40.738007</td>\n",
       "      <td>-73.991807</td>\n",
       "      <td>40.735677</td>\n",
       "      <td>1.000000</td>\n",
       "    </tr>\n",
       "    <tr>\n",
       "      <th>50%</th>\n",
       "      <td>8.100000</td>\n",
       "      <td>-73.983518</td>\n",
       "      <td>40.752160</td>\n",
       "      <td>-73.981490</td>\n",
       "      <td>40.753232</td>\n",
       "      <td>1.000000</td>\n",
       "    </tr>\n",
       "    <tr>\n",
       "      <th>75%</th>\n",
       "      <td>12.000000</td>\n",
       "      <td>-73.976205</td>\n",
       "      <td>40.764628</td>\n",
       "      <td>-73.968332</td>\n",
       "      <td>40.767385</td>\n",
       "      <td>2.000000</td>\n",
       "    </tr>\n",
       "    <tr>\n",
       "      <th>max</th>\n",
       "      <td>250.250000</td>\n",
       "      <td>40.766125</td>\n",
       "      <td>401.083332</td>\n",
       "      <td>40.802437</td>\n",
       "      <td>404.716667</td>\n",
       "      <td>6.000000</td>\n",
       "    </tr>\n",
       "  </tbody>\n",
       "</table>\n",
       "</div>"
      ],
      "text/plain": [
       "         fare_amount  pickup_longitude  pickup_latitude  dropoff_longitude  \\\n",
       "count  187420.000000     187420.000000    187420.000000      187420.000000   \n",
       "mean       10.539839        -73.975021        40.747747         -73.914662   \n",
       "std         8.276334          0.750711         1.146184           3.529483   \n",
       "min         2.500000        -74.438233       -74.006893        -740.000000   \n",
       "25%         6.000000        -73.991312        40.738007         -73.991807   \n",
       "50%         8.100000        -73.983518        40.752160         -73.981490   \n",
       "75%        12.000000        -73.976205        40.764628         -73.968332   \n",
       "max       250.250000         40.766125       401.083332          40.802437   \n",
       "\n",
       "       dropoff_latitude  passenger_count  \n",
       "count     187420.000000    187420.000000  \n",
       "mean          40.718898         1.740204  \n",
       "std            1.807740         1.357155  \n",
       "min          -74.006377         1.000000  \n",
       "25%           40.735677         1.000000  \n",
       "50%           40.753232         1.000000  \n",
       "75%           40.767385         2.000000  \n",
       "max          404.716667         6.000000  "
      ]
     },
     "execution_count": 13,
     "metadata": {},
     "output_type": "execute_result"
    }
   ],
   "source": [
    "# we have a total of 952 rows containing these values\n",
    "# we can remove all the rows lower than 0 for both columns\n",
    "df3 = df2[(df2['fare_amount'] >= 1.0) & (df2['passenger_count'] >= 1)]\n",
    "\n",
    "# check the descriptive statistics\n",
    "df3.describe()"
   ]
  },
  {
   "cell_type": "code",
   "execution_count": 14,
   "metadata": {
    "colab": {
     "base_uri": "https://localhost:8080/",
     "height": 300
    },
    "executionInfo": {
     "elapsed": 626,
     "status": "ok",
     "timestamp": 1686651142533,
     "user": {
      "displayName": "Sofiane Ikkour",
      "userId": "12163968403439377340"
     },
     "user_tz": -120
    },
    "id": "kfPDUov2Hhvw",
    "outputId": "f72f2cf7-0514-4421-b696-6cd50542d805"
   },
   "outputs": [
    {
     "data": {
      "text/html": [
       "<div>\n",
       "<style scoped>\n",
       "    .dataframe tbody tr th:only-of-type {\n",
       "        vertical-align: middle;\n",
       "    }\n",
       "\n",
       "    .dataframe tbody tr th {\n",
       "        vertical-align: top;\n",
       "    }\n",
       "\n",
       "    .dataframe thead th {\n",
       "        text-align: right;\n",
       "    }\n",
       "</style>\n",
       "<table border=\"1\" class=\"dataframe\">\n",
       "  <thead>\n",
       "    <tr style=\"text-align: right;\">\n",
       "      <th></th>\n",
       "      <th>fare_amount</th>\n",
       "      <th>pickup_longitude</th>\n",
       "      <th>pickup_latitude</th>\n",
       "      <th>dropoff_longitude</th>\n",
       "      <th>dropoff_latitude</th>\n",
       "      <th>passenger_count</th>\n",
       "    </tr>\n",
       "  </thead>\n",
       "  <tbody>\n",
       "    <tr>\n",
       "      <th>count</th>\n",
       "      <td>187414.000000</td>\n",
       "      <td>187414.000000</td>\n",
       "      <td>187414.000000</td>\n",
       "      <td>187414.000000</td>\n",
       "      <td>187414.000000</td>\n",
       "      <td>187414.000000</td>\n",
       "    </tr>\n",
       "    <tr>\n",
       "      <th>mean</th>\n",
       "      <td>10.539823</td>\n",
       "      <td>-73.975021</td>\n",
       "      <td>40.745824</td>\n",
       "      <td>-73.904057</td>\n",
       "      <td>40.715015</td>\n",
       "      <td>1.740206</td>\n",
       "    </tr>\n",
       "    <tr>\n",
       "      <th>std</th>\n",
       "      <td>8.276288</td>\n",
       "      <td>0.750723</td>\n",
       "      <td>0.788014</td>\n",
       "      <td>2.330729</td>\n",
       "      <td>1.362004</td>\n",
       "      <td>1.357150</td>\n",
       "    </tr>\n",
       "    <tr>\n",
       "      <th>min</th>\n",
       "      <td>2.500000</td>\n",
       "      <td>-74.438233</td>\n",
       "      <td>-74.006893</td>\n",
       "      <td>-74.429332</td>\n",
       "      <td>-74.006377</td>\n",
       "      <td>1.000000</td>\n",
       "    </tr>\n",
       "    <tr>\n",
       "      <th>25%</th>\n",
       "      <td>6.000000</td>\n",
       "      <td>-73.991312</td>\n",
       "      <td>40.738007</td>\n",
       "      <td>-73.991807</td>\n",
       "      <td>40.735675</td>\n",
       "      <td>1.000000</td>\n",
       "    </tr>\n",
       "    <tr>\n",
       "      <th>50%</th>\n",
       "      <td>8.100000</td>\n",
       "      <td>-73.983518</td>\n",
       "      <td>40.752160</td>\n",
       "      <td>-73.981490</td>\n",
       "      <td>40.753232</td>\n",
       "      <td>1.000000</td>\n",
       "    </tr>\n",
       "    <tr>\n",
       "      <th>75%</th>\n",
       "      <td>12.000000</td>\n",
       "      <td>-73.976205</td>\n",
       "      <td>40.764628</td>\n",
       "      <td>-73.968332</td>\n",
       "      <td>40.767384</td>\n",
       "      <td>2.000000</td>\n",
       "    </tr>\n",
       "    <tr>\n",
       "      <th>max</th>\n",
       "      <td>250.250000</td>\n",
       "      <td>40.766125</td>\n",
       "      <td>41.650000</td>\n",
       "      <td>40.802437</td>\n",
       "      <td>44.600000</td>\n",
       "      <td>6.000000</td>\n",
       "    </tr>\n",
       "  </tbody>\n",
       "</table>\n",
       "</div>"
      ],
      "text/plain": [
       "         fare_amount  pickup_longitude  pickup_latitude  dropoff_longitude  \\\n",
       "count  187414.000000     187414.000000    187414.000000      187414.000000   \n",
       "mean       10.539823        -73.975021        40.745824         -73.904057   \n",
       "std         8.276288          0.750723         0.788014           2.330729   \n",
       "min         2.500000        -74.438233       -74.006893         -74.429332   \n",
       "25%         6.000000        -73.991312        40.738007         -73.991807   \n",
       "50%         8.100000        -73.983518        40.752160         -73.981490   \n",
       "75%        12.000000        -73.976205        40.764628         -73.968332   \n",
       "max       250.250000         40.766125        41.650000          40.802437   \n",
       "\n",
       "       dropoff_latitude  passenger_count  \n",
       "count     187414.000000    187414.000000  \n",
       "mean          40.715015         1.740206  \n",
       "std            1.362004         1.357150  \n",
       "min          -74.006377         1.000000  \n",
       "25%           40.735675         1.000000  \n",
       "50%           40.753232         1.000000  \n",
       "75%           40.767384         2.000000  \n",
       "max           44.600000         6.000000  "
      ]
     },
     "execution_count": 14,
     "metadata": {},
     "output_type": "execute_result"
    }
   ],
   "source": [
    "# next, it seems that the maximum pickup latitude abd longitude is greater than 400 degrees\n",
    "# on the other hand, the minimum value of the dropoff longitude is -740.0\n",
    "# these are not correct values since we know that latitude values range from -90 to 90 degrees and longitude values range from -180 to 180 degrees\n",
    "# let's only keep the values in this range\n",
    "df4 = df3[(df3['pickup_longitude'] <= 180) & (df3['pickup_longitude'] >= -180) &\n",
    "          (df3['dropoff_longitude'] <= 180) & (df3['dropoff_longitude'] >= -180) &\n",
    "          (df3['pickup_latitude'] <= 90) & (df3['pickup_latitude'] >= -90) &\n",
    "          (df3['dropoff_latitude'] <= 90) & (df3['dropoff_latitude'] >= -90)]\n",
    "\n",
    "# check the descriptive statistics\n",
    "df4.describe()"
   ]
  },
  {
   "cell_type": "code",
   "execution_count": 15,
   "metadata": {
    "colab": {
     "base_uri": "https://localhost:8080/"
    },
    "executionInfo": {
     "elapsed": 292,
     "status": "ok",
     "timestamp": 1686648364493,
     "user": {
      "displayName": "Sofiane Ikkour",
      "userId": "12163968403439377340"
     },
     "user_tz": -120
    },
    "id": "zsc9X0FlEfTM",
    "outputId": "1930cc64-1e40-430f-eca0-bcd31bc0371d"
   },
   "outputs": [
    {
     "name": "stdout",
     "output_type": "stream",
     "text": [
      "<class 'pandas.core.frame.DataFrame'>\n",
      "Int64Index: 187414 entries, 0 to 188383\n",
      "Data columns (total 8 columns):\n",
      " #   Column             Non-Null Count   Dtype  \n",
      "---  ------             --------------   -----  \n",
      " 0   key                187414 non-null  object \n",
      " 1   fare_amount        187414 non-null  float64\n",
      " 2   pickup_datetime    187414 non-null  object \n",
      " 3   pickup_longitude   187414 non-null  float64\n",
      " 4   pickup_latitude    187414 non-null  float64\n",
      " 5   dropoff_longitude  187414 non-null  float64\n",
      " 6   dropoff_latitude   187414 non-null  float64\n",
      " 7   passenger_count    187414 non-null  int64  \n",
      "dtypes: float64(5), int64(1), object(2)\n",
      "memory usage: 12.9+ MB\n"
     ]
    }
   ],
   "source": [
    "# check the features\n",
    "df4.info()"
   ]
  },
  {
   "cell_type": "code",
   "execution_count": 16,
   "metadata": {
    "colab": {
     "base_uri": "https://localhost:8080/",
     "height": 522
    },
    "executionInfo": {
     "elapsed": 955,
     "status": "ok",
     "timestamp": 1686650144679,
     "user": {
      "displayName": "Sofiane Ikkour",
      "userId": "12163968403439377340"
     },
     "user_tz": -120
    },
    "id": "rEFlzCONdB0_",
    "outputId": "b2b42b79-8255-45be-b7b3-396c50af22e2"
   },
   "outputs": [
    {
     "data": {
      "image/png": "[encoded data removed]",
      "text/plain": [
       "<Figure size 1000x600 with 1 Axes>"
      ]
     },
     "metadata": {},
     "output_type": "display_data"
    }
   ],
   "source": [
    "# the maximum fare amount is 250.25 dollars which is a little too distanced from the minimum and mean of the variable\n",
    "# let's explore this variable and print its distribution plot\n",
    "plt.figure(figsize = (10,6))\n",
    "plt.hist(df4['fare_amount'])\n",
    "plt.show()"
   ]
  },
  {
   "cell_type": "code",
   "execution_count": 17,
   "metadata": {
    "colab": {
     "base_uri": "https://localhost:8080/",
     "height": 522
    },
    "executionInfo": {
     "elapsed": 318,
     "status": "ok",
     "timestamp": 1686648811795,
     "user": {
      "displayName": "Sofiane Ikkour",
      "userId": "12163968403439377340"
     },
     "user_tz": -120
    },
    "id": "TPCL7egNeyUd",
    "outputId": "17be6326-a5c9-4826-bd46-c4f1f15958d4"
   },
   "outputs": [
    {
     "data": {
      "image/png": "[encoded data removed]",
      "text/plain": [
       "<Figure size 1000x600 with 1 Axes>"
      ]
     },
     "metadata": {},
     "output_type": "display_data"
    }
   ],
   "source": [
    "# print its boxplot\n",
    "plt.figure(figsize = (10,6))\n",
    "plt.boxplot(df4['fare_amount'])\n",
    "plt.show()"
   ]
  },
  {
   "cell_type": "code",
   "execution_count": 18,
   "metadata": {
    "colab": {
     "base_uri": "https://localhost:8080/",
     "height": 300
    },
    "executionInfo": {
     "elapsed": 924,
     "status": "ok",
     "timestamp": 1686651150098,
     "user": {
      "displayName": "Sofiane Ikkour",
      "userId": "12163968403439377340"
     },
     "user_tz": -120
    },
    "id": "CNWrkGVchGYc",
    "outputId": "385fb898-a9bb-4a30-926b-5ecad4380054"
   },
   "outputs": [
    {
     "data": {
      "text/html": [
       "<div>\n",
       "<style scoped>\n",
       "    .dataframe tbody tr th:only-of-type {\n",
       "        vertical-align: middle;\n",
       "    }\n",
       "\n",
       "    .dataframe tbody tr th {\n",
       "        vertical-align: top;\n",
       "    }\n",
       "\n",
       "    .dataframe thead th {\n",
       "        text-align: right;\n",
       "    }\n",
       "</style>\n",
       "<table border=\"1\" class=\"dataframe\">\n",
       "  <thead>\n",
       "    <tr style=\"text-align: right;\">\n",
       "      <th></th>\n",
       "      <th>fare_amount</th>\n",
       "      <th>pickup_longitude</th>\n",
       "      <th>pickup_latitude</th>\n",
       "      <th>dropoff_longitude</th>\n",
       "      <th>dropoff_latitude</th>\n",
       "      <th>passenger_count</th>\n",
       "    </tr>\n",
       "  </thead>\n",
       "  <tbody>\n",
       "    <tr>\n",
       "      <th>count</th>\n",
       "      <td>185946.000000</td>\n",
       "      <td>185946.000000</td>\n",
       "      <td>185946.000000</td>\n",
       "      <td>185946.000000</td>\n",
       "      <td>185946.000000</td>\n",
       "      <td>185946.000000</td>\n",
       "    </tr>\n",
       "    <tr>\n",
       "      <th>mean</th>\n",
       "      <td>10.144142</td>\n",
       "      <td>-73.975860</td>\n",
       "      <td>40.746525</td>\n",
       "      <td>-73.908893</td>\n",
       "      <td>40.718201</td>\n",
       "      <td>1.739354</td>\n",
       "    </tr>\n",
       "    <tr>\n",
       "      <th>std</th>\n",
       "      <td>6.884121</td>\n",
       "      <td>0.705128</td>\n",
       "      <td>0.745003</td>\n",
       "      <td>2.254149</td>\n",
       "      <td>1.304148</td>\n",
       "      <td>1.356467</td>\n",
       "    </tr>\n",
       "    <tr>\n",
       "      <th>min</th>\n",
       "      <td>2.500000</td>\n",
       "      <td>-74.133710</td>\n",
       "      <td>-74.006893</td>\n",
       "      <td>-74.267497</td>\n",
       "      <td>-73.994392</td>\n",
       "      <td>1.000000</td>\n",
       "    </tr>\n",
       "    <tr>\n",
       "      <th>25%</th>\n",
       "      <td>6.000000</td>\n",
       "      <td>-73.991321</td>\n",
       "      <td>40.738057</td>\n",
       "      <td>-73.991797</td>\n",
       "      <td>40.736158</td>\n",
       "      <td>1.000000</td>\n",
       "    </tr>\n",
       "    <tr>\n",
       "      <th>50%</th>\n",
       "      <td>8.100000</td>\n",
       "      <td>-73.983537</td>\n",
       "      <td>40.752173</td>\n",
       "      <td>-73.981529</td>\n",
       "      <td>40.753404</td>\n",
       "      <td>1.000000</td>\n",
       "    </tr>\n",
       "    <tr>\n",
       "      <th>75%</th>\n",
       "      <td>11.700000</td>\n",
       "      <td>-73.976267</td>\n",
       "      <td>40.764662</td>\n",
       "      <td>-73.968572</td>\n",
       "      <td>40.767492</td>\n",
       "      <td>2.000000</td>\n",
       "    </tr>\n",
       "    <tr>\n",
       "      <th>max</th>\n",
       "      <td>50.000000</td>\n",
       "      <td>40.766125</td>\n",
       "      <td>41.650000</td>\n",
       "      <td>40.802437</td>\n",
       "      <td>44.600000</td>\n",
       "      <td>6.000000</td>\n",
       "    </tr>\n",
       "  </tbody>\n",
       "</table>\n",
       "</div>"
      ],
      "text/plain": [
       "         fare_amount  pickup_longitude  pickup_latitude  dropoff_longitude  \\\n",
       "count  185946.000000     185946.000000    185946.000000      185946.000000   \n",
       "mean       10.144142        -73.975860        40.746525         -73.908893   \n",
       "std         6.884121          0.705128         0.745003           2.254149   \n",
       "min         2.500000        -74.133710       -74.006893         -74.267497   \n",
       "25%         6.000000        -73.991321        40.738057         -73.991797   \n",
       "50%         8.100000        -73.983537        40.752173         -73.981529   \n",
       "75%        11.700000        -73.976267        40.764662         -73.968572   \n",
       "max        50.000000         40.766125        41.650000          40.802437   \n",
       "\n",
       "       dropoff_latitude  passenger_count  \n",
       "count     185946.000000    185946.000000  \n",
       "mean          40.718201         1.739354  \n",
       "std            1.304148         1.356467  \n",
       "min          -73.994392         1.000000  \n",
       "25%           40.736158         1.000000  \n",
       "50%           40.753404         1.000000  \n",
       "75%           40.767492         2.000000  \n",
       "max           44.600000         6.000000  "
      ]
     },
     "execution_count": 18,
     "metadata": {},
     "output_type": "execute_result"
    }
   ],
   "source": [
    "# the distribution plots how that most of the values are below 100\n",
    "# in fact if we refer to the descriptive statistics we can see that 75% of the values fall behind $12\n",
    "# after making these observations, I decided to keep only values below $50\n",
    "df5 = df4[df4['fare_amount'] <= 50.0]\n",
    "df5.describe()"
   ]
  },
  {
   "cell_type": "code",
   "execution_count": 19,
   "metadata": {
    "colab": {
     "base_uri": "https://localhost:8080/",
     "height": 776
    },
    "executionInfo": {
     "elapsed": 2407,
     "status": "ok",
     "timestamp": 1686651154237,
     "user": {
      "displayName": "Sofiane Ikkour",
      "userId": "12163968403439377340"
     },
     "user_tz": -120
    },
    "id": "CWSZNf4u2Ivb",
    "outputId": "f0e31671-f0b9-4348-e7d5-6c5a3cb22ce3"
   },
   "outputs": [
    {
     "data": {
      "image/png": "[encoded data removed]",
      "text/plain": [
       "<Figure size 1400x900 with 4 Axes>"
      ]
     },
     "metadata": {},
     "output_type": "display_data"
    }
   ],
   "source": [
    "# what we can also observe is the maximum values of the longitudes which are greater than 40 degrees while the 75th percentile is around -73 degrees\n",
    "# on the other hand, the minimum latitudes are around 40 and the 25th percentile is around -74 degrees\n",
    "# let's check the distribution plots of these variables\n",
    "plt.figure(figsize = (14,9))\n",
    "cols = ['pickup_longitude', 'pickup_latitude', 'dropoff_longitude', 'dropoff_latitude']\n",
    "i = 1\n",
    "for c in cols:\n",
    "  plt.subplot(2,2,i)\n",
    "  plt.hist(df5[c])\n",
    "  plt.title(c)\n",
    "  i += 1\n",
    "plt.show()"
   ]
  },
  {
   "cell_type": "code",
   "execution_count": 20,
   "metadata": {
    "colab": {
     "base_uri": "https://localhost:8080/",
     "height": 300
    },
    "executionInfo": {
     "elapsed": 277,
     "status": "ok",
     "timestamp": 1686651156421,
     "user": {
      "displayName": "Sofiane Ikkour",
      "userId": "12163968403439377340"
     },
     "user_tz": -120
    },
    "id": "G9U8AYyX8Ssw",
    "outputId": "824ee9ca-949a-4f8c-c86e-be46daeb44e1"
   },
   "outputs": [
    {
     "data": {
      "text/html": [
       "<div>\n",
       "<style scoped>\n",
       "    .dataframe tbody tr th:only-of-type {\n",
       "        vertical-align: middle;\n",
       "    }\n",
       "\n",
       "    .dataframe tbody tr th {\n",
       "        vertical-align: top;\n",
       "    }\n",
       "\n",
       "    .dataframe thead th {\n",
       "        text-align: right;\n",
       "    }\n",
       "</style>\n",
       "<table border=\"1\" class=\"dataframe\">\n",
       "  <thead>\n",
       "    <tr style=\"text-align: right;\">\n",
       "      <th></th>\n",
       "      <th>fare_amount</th>\n",
       "      <th>pickup_longitude</th>\n",
       "      <th>pickup_latitude</th>\n",
       "      <th>dropoff_longitude</th>\n",
       "      <th>dropoff_latitude</th>\n",
       "      <th>passenger_count</th>\n",
       "    </tr>\n",
       "  </thead>\n",
       "  <tbody>\n",
       "    <tr>\n",
       "      <th>count</th>\n",
       "      <td>180579.000000</td>\n",
       "      <td>180579.000000</td>\n",
       "      <td>180579.000000</td>\n",
       "      <td>180579.000000</td>\n",
       "      <td>180579.000000</td>\n",
       "      <td>180579.000000</td>\n",
       "    </tr>\n",
       "    <tr>\n",
       "      <th>mean</th>\n",
       "      <td>9.656484</td>\n",
       "      <td>-73.982936</td>\n",
       "      <td>40.752030</td>\n",
       "      <td>-73.978274</td>\n",
       "      <td>40.752871</td>\n",
       "      <td>1.740191</td>\n",
       "    </tr>\n",
       "    <tr>\n",
       "      <th>std</th>\n",
       "      <td>5.820693</td>\n",
       "      <td>0.014117</td>\n",
       "      <td>0.020337</td>\n",
       "      <td>0.023288</td>\n",
       "      <td>0.027632</td>\n",
       "      <td>1.357836</td>\n",
       "    </tr>\n",
       "    <tr>\n",
       "      <th>min</th>\n",
       "      <td>2.500000</td>\n",
       "      <td>-74.042958</td>\n",
       "      <td>40.686561</td>\n",
       "      <td>-74.267497</td>\n",
       "      <td>40.661542</td>\n",
       "      <td>1.000000</td>\n",
       "    </tr>\n",
       "    <tr>\n",
       "      <th>25%</th>\n",
       "      <td>6.000000</td>\n",
       "      <td>-73.991366</td>\n",
       "      <td>40.738525</td>\n",
       "      <td>-73.991897</td>\n",
       "      <td>40.737400</td>\n",
       "      <td>1.000000</td>\n",
       "    </tr>\n",
       "    <tr>\n",
       "      <th>50%</th>\n",
       "      <td>8.100000</td>\n",
       "      <td>-73.983682</td>\n",
       "      <td>40.752277</td>\n",
       "      <td>-73.981765</td>\n",
       "      <td>40.753897</td>\n",
       "      <td>1.000000</td>\n",
       "    </tr>\n",
       "    <tr>\n",
       "      <th>75%</th>\n",
       "      <td>11.500000</td>\n",
       "      <td>-73.976547</td>\n",
       "      <td>40.764572</td>\n",
       "      <td>-73.969422</td>\n",
       "      <td>40.767769</td>\n",
       "      <td>2.000000</td>\n",
       "    </tr>\n",
       "    <tr>\n",
       "      <th>max</th>\n",
       "      <td>50.000000</td>\n",
       "      <td>-73.872780</td>\n",
       "      <td>41.650000</td>\n",
       "      <td>-73.856707</td>\n",
       "      <td>44.600000</td>\n",
       "      <td>6.000000</td>\n",
       "    </tr>\n",
       "  </tbody>\n",
       "</table>\n",
       "</div>"
      ],
      "text/plain": [
       "         fare_amount  pickup_longitude  pickup_latitude  dropoff_longitude  \\\n",
       "count  180579.000000     180579.000000    180579.000000      180579.000000   \n",
       "mean        9.656484        -73.982936        40.752030         -73.978274   \n",
       "std         5.820693          0.014117         0.020337           0.023288   \n",
       "min         2.500000        -74.042958        40.686561         -74.267497   \n",
       "25%         6.000000        -73.991366        40.738525         -73.991897   \n",
       "50%         8.100000        -73.983682        40.752277         -73.981765   \n",
       "75%        11.500000        -73.976547        40.764572         -73.969422   \n",
       "max        50.000000        -73.872780        41.650000         -73.856707   \n",
       "\n",
       "       dropoff_latitude  passenger_count  \n",
       "count     180579.000000    180579.000000  \n",
       "mean          40.752871         1.740191  \n",
       "std            0.027632         1.357836  \n",
       "min           40.661542         1.000000  \n",
       "25%           40.737400         1.000000  \n",
       "50%           40.753897         1.000000  \n",
       "75%           40.767769         2.000000  \n",
       "max           44.600000         6.000000  "
      ]
     },
     "execution_count": 20,
     "metadata": {},
     "output_type": "execute_result"
    }
   ],
   "source": [
    "# the distribution plots ou observations\n",
    "# as a result, to remove outliers I filtered the dataset by dropping the values that fall above the 99th percentile and below the 1st percentile\n",
    "thr_pickup_long = df5['pickup_longitude'].quantile(0.99)\n",
    "thr_dropoff_long = df5['dropoff_longitude'].quantile(0.99)\n",
    "thr_pickup_lat = df5['pickup_latitude'].quantile(0.01)\n",
    "thr_dropoff_lat = df5['dropoff_latitude'].quantile(0.01)\n",
    "\n",
    "df6 = df5[(df5['pickup_longitude'] < thr_pickup_long) &\n",
    "          (df5['dropoff_longitude'] < thr_dropoff_long) &\n",
    "          (df5['pickup_latitude'] > thr_pickup_lat) &\n",
    "          (df5['dropoff_latitude'] > thr_dropoff_lat)]\n",
    "\n",
    "# print the descriptive statistcs of the filtered dataframe\n",
    "df6.describe()"
   ]
  },
  {
   "cell_type": "code",
   "execution_count": 21,
   "metadata": {
    "colab": {
     "base_uri": "https://localhost:8080/",
     "height": 206
    },
    "executionInfo": {
     "elapsed": 293,
     "status": "ok",
     "timestamp": 1686651160265,
     "user": {
      "displayName": "Sofiane Ikkour",
      "userId": "12163968403439377340"
     },
     "user_tz": -120
    },
    "id": "oaX4VtaQltLY",
    "outputId": "28f5af3c-62ee-4610-c7ae-f86926c7365a"
   },
   "outputs": [
    {
     "data": {
      "text/html": [
       "<div>\n",
       "<style scoped>\n",
       "    .dataframe tbody tr th:only-of-type {\n",
       "        vertical-align: middle;\n",
       "    }\n",
       "\n",
       "    .dataframe tbody tr th {\n",
       "        vertical-align: top;\n",
       "    }\n",
       "\n",
       "    .dataframe thead th {\n",
       "        text-align: right;\n",
       "    }\n",
       "</style>\n",
       "<table border=\"1\" class=\"dataframe\">\n",
       "  <thead>\n",
       "    <tr style=\"text-align: right;\">\n",
       "      <th></th>\n",
       "      <th>fare_amount</th>\n",
       "      <th>pickup_datetime</th>\n",
       "      <th>pickup_longitude</th>\n",
       "      <th>pickup_latitude</th>\n",
       "      <th>dropoff_longitude</th>\n",
       "      <th>dropoff_latitude</th>\n",
       "      <th>passenger_count</th>\n",
       "    </tr>\n",
       "  </thead>\n",
       "  <tbody>\n",
       "    <tr>\n",
       "      <th>0</th>\n",
       "      <td>16.9</td>\n",
       "      <td>2010-01-05 16:52:16 UTC</td>\n",
       "      <td>-74.016048</td>\n",
       "      <td>40.711303</td>\n",
       "      <td>-73.979268</td>\n",
       "      <td>40.782004</td>\n",
       "      <td>1</td>\n",
       "    </tr>\n",
       "    <tr>\n",
       "      <th>1</th>\n",
       "      <td>5.7</td>\n",
       "      <td>2011-08-18 00:35:00 UTC</td>\n",
       "      <td>-73.982738</td>\n",
       "      <td>40.761270</td>\n",
       "      <td>-73.991242</td>\n",
       "      <td>40.750562</td>\n",
       "      <td>2</td>\n",
       "    </tr>\n",
       "    <tr>\n",
       "      <th>2</th>\n",
       "      <td>7.7</td>\n",
       "      <td>2012-04-21 04:30:42 UTC</td>\n",
       "      <td>-73.987130</td>\n",
       "      <td>40.733143</td>\n",
       "      <td>-73.991567</td>\n",
       "      <td>40.758092</td>\n",
       "      <td>1</td>\n",
       "    </tr>\n",
       "    <tr>\n",
       "      <th>3</th>\n",
       "      <td>5.3</td>\n",
       "      <td>2010-03-09 07:51:00 UTC</td>\n",
       "      <td>-73.968095</td>\n",
       "      <td>40.768008</td>\n",
       "      <td>-73.956655</td>\n",
       "      <td>40.783762</td>\n",
       "      <td>1</td>\n",
       "    </tr>\n",
       "    <tr>\n",
       "      <th>4</th>\n",
       "      <td>12.1</td>\n",
       "      <td>2011-01-06 09:50:45 UTC</td>\n",
       "      <td>-74.000964</td>\n",
       "      <td>40.731630</td>\n",
       "      <td>-73.972892</td>\n",
       "      <td>40.758233</td>\n",
       "      <td>1</td>\n",
       "    </tr>\n",
       "  </tbody>\n",
       "</table>\n",
       "</div>"
      ],
      "text/plain": [
       "   fare_amount          pickup_datetime  pickup_longitude  pickup_latitude  \\\n",
       "0         16.9  2010-01-05 16:52:16 UTC        -74.016048        40.711303   \n",
       "1          5.7  2011-08-18 00:35:00 UTC        -73.982738        40.761270   \n",
       "2          7.7  2012-04-21 04:30:42 UTC        -73.987130        40.733143   \n",
       "3          5.3  2010-03-09 07:51:00 UTC        -73.968095        40.768008   \n",
       "4         12.1  2011-01-06 09:50:45 UTC        -74.000964        40.731630   \n",
       "\n",
       "   dropoff_longitude  dropoff_latitude  passenger_count  \n",
       "0         -73.979268         40.782004                1  \n",
       "1         -73.991242         40.750562                2  \n",
       "2         -73.991567         40.758092                1  \n",
       "3         -73.956655         40.783762                1  \n",
       "4         -73.972892         40.758233                1  "
      ]
     },
     "execution_count": 21,
     "metadata": {},
     "output_type": "execute_result"
    }
   ],
   "source": [
    "# the \"key\" column is irrelevant at this point so let's drop it\n",
    "df_final = df6.drop('key', axis = 1)\n",
    "\n",
    "# reset the indicies\n",
    "df_final.reset_index(inplace = True, drop = True)\n",
    "df_final.head()"
   ]
  },
  {
   "cell_type": "code",
   "execution_count": 22,
   "metadata": {
    "colab": {
     "base_uri": "https://localhost:8080/",
     "height": 522
    },
    "executionInfo": {
     "elapsed": 292,
     "status": "ok",
     "timestamp": 1686650164420,
     "user": {
      "displayName": "Sofiane Ikkour",
      "userId": "12163968403439377340"
     },
     "user_tz": -120
    },
    "id": "N6D4LZ7ol71B",
    "outputId": "e1d54a0c-d287-41f0-f446-3b1ee3311ba1"
   },
   "outputs": [
    {
     "data": {
      "image/png": "[encoded data removed]",
      "text/plain": [
       "<Figure size 1000x600 with 1 Axes>"
      ]
     },
     "metadata": {},
     "output_type": "display_data"
    }
   ],
   "source": [
    "# recheck the distribution plot of the \"fare_amount\" variable\n",
    "plt.figure(figsize = (10,6))\n",
    "plt.hist(df_final['fare_amount'])\n",
    "plt.show()"
   ]
  },
  {
   "cell_type": "code",
   "execution_count": 23,
   "metadata": {
    "colab": {
     "base_uri": "https://localhost:8080/"
    },
    "executionInfo": {
     "elapsed": 363,
     "status": "ok",
     "timestamp": 1686650169734,
     "user": {
      "displayName": "Sofiane Ikkour",
      "userId": "12163968403439377340"
     },
     "user_tz": -120
    },
    "id": "PWOstph1mKXZ",
    "outputId": "87c9fab1-6b7f-4ae1-f8e1-551505379625"
   },
   "outputs": [
    {
     "data": {
      "text/plain": [
       "(180579, 7)"
      ]
     },
     "execution_count": 23,
     "metadata": {},
     "output_type": "execute_result"
    }
   ],
   "source": [
    "# print the shape of the final dataset\n",
    "df_final.shape"
   ]
  },
  {
   "cell_type": "markdown",
   "metadata": {
    "id": "6INDQsB0tkzB"
   },
   "source": [
    "**Insights:**\n",
    "- The final data set contains 185946 observations and 8 features with non missing values.\n",
    "- Our problem is a regression problem and the target variable is the fare amount. The minimum dollar amount of a taxi ride is 2.5 dollars and the maximum amount is 50 dollars.\n",
    "- There are four features that give us information about longitudes and latitudes for each pickup and dropoff ride. We can use this information to calculate the distance between a pickup point and a dropoff point.\n",
    "- The datetime column is another interesting feature on which we can do some feature engineering to extract some useful information, for example the hour of the ride and the day of the week."
   ]
  },
  {
   "cell_type": "markdown",
   "metadata": {
    "id": "2zrnu7KrF381"
   },
   "source": [
    "**Feature engineering**"
   ]
  },
  {
   "cell_type": "code",
   "execution_count": 24,
   "metadata": {
    "executionInfo": {
     "elapsed": 656,
     "status": "ok",
     "timestamp": 1686651164327,
     "user": {
      "displayName": "Sofiane Ikkour",
      "userId": "12163968403439377340"
     },
     "user_tz": -120
    },
    "id": "tmxUHIkGkLhl"
   },
   "outputs": [],
   "source": [
    "# feature engineering\n",
    "# the dataset has four columns that give information about longitudes and latitudes\n",
    "# with this information we can calculate the haversine distance\n",
    "# the below code is function that calculates the haversine distance\n",
    "def haversine_distance(df, lat1, lat2, lon1, lon2):\n",
    "  \"\"\"This function calculates the haversine distance between 2 points of a sphere\"\"\"\n",
    "  r = 6371 # earth radius in kilometers\n",
    "  # convert latitudes and longitudes to radians\n",
    "  phi1 = np.radians(df[lat1])\n",
    "  phi2 = np.radians(df[lat2])\n",
    "  lambda1 = np.radians(df[lon1])\n",
    "  lambda2 = np.radians(df[lon2])\n",
    "  # haversine formula\n",
    "  a = np.sin((phi2 - phi1) / 2)**2 + np.cos(phi1) * np.cos(phi2) * np.sin((lambda2 - lambda1) / 2)**2\n",
    "  c = 2 * np.arcsin(np.sqrt(a))\n",
    "  d = c * r # distance in kilometers\n",
    "  return d"
   ]
  },
  {
   "cell_type": "code",
   "execution_count": 25,
   "metadata": {
    "colab": {
     "base_uri": "https://localhost:8080/",
     "height": 206
    },
    "executionInfo": {
     "elapsed": 374,
     "status": "ok",
     "timestamp": 1686651166905,
     "user": {
      "displayName": "Sofiane Ikkour",
      "userId": "12163968403439377340"
     },
     "user_tz": -120
    },
    "id": "0svB0o77_qur",
    "outputId": "543fec47-1503-40a8-b0cf-b68687947b7b"
   },
   "outputs": [
    {
     "data": {
      "text/html": [
       "<div>\n",
       "<style scoped>\n",
       "    .dataframe tbody tr th:only-of-type {\n",
       "        vertical-align: middle;\n",
       "    }\n",
       "\n",
       "    .dataframe tbody tr th {\n",
       "        vertical-align: top;\n",
       "    }\n",
       "\n",
       "    .dataframe thead th {\n",
       "        text-align: right;\n",
       "    }\n",
       "</style>\n",
       "<table border=\"1\" class=\"dataframe\">\n",
       "  <thead>\n",
       "    <tr style=\"text-align: right;\">\n",
       "      <th></th>\n",
       "      <th>fare_amount</th>\n",
       "      <th>pickup_datetime</th>\n",
       "      <th>pickup_longitude</th>\n",
       "      <th>pickup_latitude</th>\n",
       "      <th>dropoff_longitude</th>\n",
       "      <th>dropoff_latitude</th>\n",
       "      <th>passenger_count</th>\n",
       "      <th>dist_km</th>\n",
       "    </tr>\n",
       "  </thead>\n",
       "  <tbody>\n",
       "    <tr>\n",
       "      <th>0</th>\n",
       "      <td>16.9</td>\n",
       "      <td>2010-01-05 16:52:16 UTC</td>\n",
       "      <td>-74.016048</td>\n",
       "      <td>40.711303</td>\n",
       "      <td>-73.979268</td>\n",
       "      <td>40.782004</td>\n",
       "      <td>1</td>\n",
       "      <td>8.450134</td>\n",
       "    </tr>\n",
       "    <tr>\n",
       "      <th>1</th>\n",
       "      <td>5.7</td>\n",
       "      <td>2011-08-18 00:35:00 UTC</td>\n",
       "      <td>-73.982738</td>\n",
       "      <td>40.761270</td>\n",
       "      <td>-73.991242</td>\n",
       "      <td>40.750562</td>\n",
       "      <td>2</td>\n",
       "      <td>1.389525</td>\n",
       "    </tr>\n",
       "    <tr>\n",
       "      <th>2</th>\n",
       "      <td>7.7</td>\n",
       "      <td>2012-04-21 04:30:42 UTC</td>\n",
       "      <td>-73.987130</td>\n",
       "      <td>40.733143</td>\n",
       "      <td>-73.991567</td>\n",
       "      <td>40.758092</td>\n",
       "      <td>1</td>\n",
       "      <td>2.799270</td>\n",
       "    </tr>\n",
       "    <tr>\n",
       "      <th>3</th>\n",
       "      <td>5.3</td>\n",
       "      <td>2010-03-09 07:51:00 UTC</td>\n",
       "      <td>-73.968095</td>\n",
       "      <td>40.768008</td>\n",
       "      <td>-73.956655</td>\n",
       "      <td>40.783762</td>\n",
       "      <td>1</td>\n",
       "      <td>1.999157</td>\n",
       "    </tr>\n",
       "    <tr>\n",
       "      <th>4</th>\n",
       "      <td>12.1</td>\n",
       "      <td>2011-01-06 09:50:45 UTC</td>\n",
       "      <td>-74.000964</td>\n",
       "      <td>40.731630</td>\n",
       "      <td>-73.972892</td>\n",
       "      <td>40.758233</td>\n",
       "      <td>1</td>\n",
       "      <td>3.787239</td>\n",
       "    </tr>\n",
       "  </tbody>\n",
       "</table>\n",
       "</div>"
      ],
      "text/plain": [
       "   fare_amount          pickup_datetime  pickup_longitude  pickup_latitude  \\\n",
       "0         16.9  2010-01-05 16:52:16 UTC        -74.016048        40.711303   \n",
       "1          5.7  2011-08-18 00:35:00 UTC        -73.982738        40.761270   \n",
       "2          7.7  2012-04-21 04:30:42 UTC        -73.987130        40.733143   \n",
       "3          5.3  2010-03-09 07:51:00 UTC        -73.968095        40.768008   \n",
       "4         12.1  2011-01-06 09:50:45 UTC        -74.000964        40.731630   \n",
       "\n",
       "   dropoff_longitude  dropoff_latitude  passenger_count   dist_km  \n",
       "0         -73.979268         40.782004                1  8.450134  \n",
       "1         -73.991242         40.750562                2  1.389525  \n",
       "2         -73.991567         40.758092                1  2.799270  \n",
       "3         -73.956655         40.783762                1  1.999157  \n",
       "4         -73.972892         40.758233                1  3.787239  "
      ]
     },
     "execution_count": 25,
     "metadata": {},
     "output_type": "execute_result"
    }
   ],
   "source": [
    "# create a new column that contains the haversine distance using the function we just coded\n",
    "df_final['dist_km'] = haversine_distance(df_final, 'pickup_latitude', 'dropoff_latitude', 'pickup_longitude', 'dropoff_longitude')\n",
    "df_final.head()"
   ]
  },
  {
   "cell_type": "code",
   "execution_count": 26,
   "metadata": {
    "colab": {
     "base_uri": "https://localhost:8080/"
    },
    "executionInfo": {
     "elapsed": 22979,
     "status": "ok",
     "timestamp": 1686651191283,
     "user": {
      "displayName": "Sofiane Ikkour",
      "userId": "12163968403439377340"
     },
     "user_tz": -120
    },
    "id": "GX6d_sH8__-F",
    "outputId": "f289fa02-bada-47fe-c410-91c15d4b772c"
   },
   "outputs": [
    {
     "name": "stdout",
     "output_type": "stream",
     "text": [
      "<class 'pandas.core.frame.DataFrame'>\n",
      "RangeIndex: 180579 entries, 0 to 180578\n",
      "Data columns (total 8 columns):\n",
      " #   Column             Non-Null Count   Dtype              \n",
      "---  ------             --------------   -----              \n",
      " 0   fare_amount        180579 non-null  float64            \n",
      " 1   pickup_datetime    180579 non-null  datetime64[ns, UTC]\n",
      " 2   pickup_longitude   180579 non-null  float64            \n",
      " 3   pickup_latitude    180579 non-null  float64            \n",
      " 4   dropoff_longitude  180579 non-null  float64            \n",
      " 5   dropoff_latitude   180579 non-null  float64            \n",
      " 6   passenger_count    180579 non-null  int64              \n",
      " 7   dist_km            180579 non-null  float64            \n",
      "dtypes: datetime64[ns, UTC](1), float64(6), int64(1)\n",
      "memory usage: 11.0 MB\n"
     ]
    }
   ],
   "source": [
    "# we can also extract some useful features from the \"pickup_datetime\" column\n",
    "# this column is stored as a string column, we need to convert it to datetime type column\n",
    "df_final['pickup_datetime'] = pd.to_datetime(df_final['pickup_datetime'])\n",
    "df_final.info()"
   ]
  },
  {
   "cell_type": "code",
   "execution_count": 27,
   "metadata": {
    "colab": {
     "base_uri": "https://localhost:8080/",
     "height": 206
    },
    "executionInfo": {
     "elapsed": 546,
     "status": "ok",
     "timestamp": 1686650207124,
     "user": {
      "displayName": "Sofiane Ikkour",
      "userId": "12163968403439377340"
     },
     "user_tz": -120
    },
    "id": "nGgkiLrHHN9Z",
    "outputId": "dd171593-e9cd-4af9-b13e-2813a748e083"
   },
   "outputs": [
    {
     "data": {
      "text/html": [
       "<div>\n",
       "<style scoped>\n",
       "    .dataframe tbody tr th:only-of-type {\n",
       "        vertical-align: middle;\n",
       "    }\n",
       "\n",
       "    .dataframe tbody tr th {\n",
       "        vertical-align: top;\n",
       "    }\n",
       "\n",
       "    .dataframe thead th {\n",
       "        text-align: right;\n",
       "    }\n",
       "</style>\n",
       "<table border=\"1\" class=\"dataframe\">\n",
       "  <thead>\n",
       "    <tr style=\"text-align: right;\">\n",
       "      <th></th>\n",
       "      <th>fare_amount</th>\n",
       "      <th>pickup_datetime</th>\n",
       "      <th>pickup_longitude</th>\n",
       "      <th>pickup_latitude</th>\n",
       "      <th>dropoff_longitude</th>\n",
       "      <th>dropoff_latitude</th>\n",
       "      <th>passenger_count</th>\n",
       "      <th>dist_km</th>\n",
       "    </tr>\n",
       "  </thead>\n",
       "  <tbody>\n",
       "    <tr>\n",
       "      <th>0</th>\n",
       "      <td>16.9</td>\n",
       "      <td>2010-01-05 16:52:16+00:00</td>\n",
       "      <td>-74.016048</td>\n",
       "      <td>40.711303</td>\n",
       "      <td>-73.979268</td>\n",
       "      <td>40.782004</td>\n",
       "      <td>1</td>\n",
       "      <td>8.450134</td>\n",
       "    </tr>\n",
       "    <tr>\n",
       "      <th>1</th>\n",
       "      <td>5.7</td>\n",
       "      <td>2011-08-18 00:35:00+00:00</td>\n",
       "      <td>-73.982738</td>\n",
       "      <td>40.761270</td>\n",
       "      <td>-73.991242</td>\n",
       "      <td>40.750562</td>\n",
       "      <td>2</td>\n",
       "      <td>1.389525</td>\n",
       "    </tr>\n",
       "    <tr>\n",
       "      <th>2</th>\n",
       "      <td>7.7</td>\n",
       "      <td>2012-04-21 04:30:42+00:00</td>\n",
       "      <td>-73.987130</td>\n",
       "      <td>40.733143</td>\n",
       "      <td>-73.991567</td>\n",
       "      <td>40.758092</td>\n",
       "      <td>1</td>\n",
       "      <td>2.799270</td>\n",
       "    </tr>\n",
       "    <tr>\n",
       "      <th>3</th>\n",
       "      <td>5.3</td>\n",
       "      <td>2010-03-09 07:51:00+00:00</td>\n",
       "      <td>-73.968095</td>\n",
       "      <td>40.768008</td>\n",
       "      <td>-73.956655</td>\n",
       "      <td>40.783762</td>\n",
       "      <td>1</td>\n",
       "      <td>1.999157</td>\n",
       "    </tr>\n",
       "    <tr>\n",
       "      <th>4</th>\n",
       "      <td>12.1</td>\n",
       "      <td>2011-01-06 09:50:45+00:00</td>\n",
       "      <td>-74.000964</td>\n",
       "      <td>40.731630</td>\n",
       "      <td>-73.972892</td>\n",
       "      <td>40.758233</td>\n",
       "      <td>1</td>\n",
       "      <td>3.787239</td>\n",
       "    </tr>\n",
       "  </tbody>\n",
       "</table>\n",
       "</div>"
      ],
      "text/plain": [
       "   fare_amount           pickup_datetime  pickup_longitude  pickup_latitude  \\\n",
       "0         16.9 2010-01-05 16:52:16+00:00        -74.016048        40.711303   \n",
       "1          5.7 2011-08-18 00:35:00+00:00        -73.982738        40.761270   \n",
       "2          7.7 2012-04-21 04:30:42+00:00        -73.987130        40.733143   \n",
       "3          5.3 2010-03-09 07:51:00+00:00        -73.968095        40.768008   \n",
       "4         12.1 2011-01-06 09:50:45+00:00        -74.000964        40.731630   \n",
       "\n",
       "   dropoff_longitude  dropoff_latitude  passenger_count   dist_km  \n",
       "0         -73.979268         40.782004                1  8.450134  \n",
       "1         -73.991242         40.750562                2  1.389525  \n",
       "2         -73.991567         40.758092                1  2.799270  \n",
       "3         -73.956655         40.783762                1  1.999157  \n",
       "4         -73.972892         40.758233                1  3.787239  "
      ]
     },
     "execution_count": 27,
     "metadata": {},
     "output_type": "execute_result"
    }
   ],
   "source": [
    "# print the first rows of the dataframe\n",
    "df_final.head()"
   ]
  },
  {
   "cell_type": "code",
   "execution_count": 28,
   "metadata": {
    "colab": {
     "base_uri": "https://localhost:8080/"
    },
    "executionInfo": {
     "elapsed": 289,
     "status": "ok",
     "timestamp": 1686651194729,
     "user": {
      "displayName": "Sofiane Ikkour",
      "userId": "12163968403439377340"
     },
     "user_tz": -120
    },
    "id": "PSWtf44oFnTU",
    "outputId": "f3b50778-5ecc-4a90-af94-a602cf2e1a2c"
   },
   "outputs": [
    {
     "data": {
      "text/plain": [
       "Timestamp('2010-01-05 16:52:16+0000', tz='UTC')"
      ]
     },
     "execution_count": 28,
     "metadata": {},
     "output_type": "execute_result"
    }
   ],
   "source": [
    "# we now see that the \"pickup_datetime\" column is converted to a datetime type feature\n",
    "# now we can perform some more feature engineering on this column\n",
    "# let's visualize the datetime of the first row and see what we can extract\n",
    "mytime = df_final['pickup_datetime'][0]\n",
    "mytime"
   ]
  },
  {
   "cell_type": "code",
   "execution_count": 29,
   "metadata": {
    "colab": {
     "base_uri": "https://localhost:8080/",
     "height": 206
    },
    "executionInfo": {
     "elapsed": 1214,
     "status": "ok",
     "timestamp": 1686651196963,
     "user": {
      "displayName": "Sofiane Ikkour",
      "userId": "12163968403439377340"
     },
     "user_tz": -120
    },
    "id": "9dDhFlu1IJZg",
    "outputId": "5a94c4b8-90bf-46eb-baf1-874b99b4398e"
   },
   "outputs": [
    {
     "data": {
      "text/html": [
       "<div>\n",
       "<style scoped>\n",
       "    .dataframe tbody tr th:only-of-type {\n",
       "        vertical-align: middle;\n",
       "    }\n",
       "\n",
       "    .dataframe tbody tr th {\n",
       "        vertical-align: top;\n",
       "    }\n",
       "\n",
       "    .dataframe thead th {\n",
       "        text-align: right;\n",
       "    }\n",
       "</style>\n",
       "<table border=\"1\" class=\"dataframe\">\n",
       "  <thead>\n",
       "    <tr style=\"text-align: right;\">\n",
       "      <th></th>\n",
       "      <th>fare_amount</th>\n",
       "      <th>pickup_datetime</th>\n",
       "      <th>pickup_longitude</th>\n",
       "      <th>pickup_latitude</th>\n",
       "      <th>dropoff_longitude</th>\n",
       "      <th>dropoff_latitude</th>\n",
       "      <th>passenger_count</th>\n",
       "      <th>dist_km</th>\n",
       "      <th>EDT</th>\n",
       "      <th>Hour</th>\n",
       "      <th>AMorPM</th>\n",
       "      <th>Weekday</th>\n",
       "    </tr>\n",
       "  </thead>\n",
       "  <tbody>\n",
       "    <tr>\n",
       "      <th>0</th>\n",
       "      <td>16.9</td>\n",
       "      <td>2010-01-05 16:52:16+00:00</td>\n",
       "      <td>-74.016048</td>\n",
       "      <td>40.711303</td>\n",
       "      <td>-73.979268</td>\n",
       "      <td>40.782004</td>\n",
       "      <td>1</td>\n",
       "      <td>8.450134</td>\n",
       "      <td>2010-01-05 12:52:16+00:00</td>\n",
       "      <td>12</td>\n",
       "      <td>PM</td>\n",
       "      <td>Tue</td>\n",
       "    </tr>\n",
       "    <tr>\n",
       "      <th>1</th>\n",
       "      <td>5.7</td>\n",
       "      <td>2011-08-18 00:35:00+00:00</td>\n",
       "      <td>-73.982738</td>\n",
       "      <td>40.761270</td>\n",
       "      <td>-73.991242</td>\n",
       "      <td>40.750562</td>\n",
       "      <td>2</td>\n",
       "      <td>1.389525</td>\n",
       "      <td>2011-08-17 20:35:00+00:00</td>\n",
       "      <td>20</td>\n",
       "      <td>PM</td>\n",
       "      <td>Thu</td>\n",
       "    </tr>\n",
       "    <tr>\n",
       "      <th>2</th>\n",
       "      <td>7.7</td>\n",
       "      <td>2012-04-21 04:30:42+00:00</td>\n",
       "      <td>-73.987130</td>\n",
       "      <td>40.733143</td>\n",
       "      <td>-73.991567</td>\n",
       "      <td>40.758092</td>\n",
       "      <td>1</td>\n",
       "      <td>2.799270</td>\n",
       "      <td>2012-04-21 00:30:42+00:00</td>\n",
       "      <td>0</td>\n",
       "      <td>AM</td>\n",
       "      <td>Sat</td>\n",
       "    </tr>\n",
       "    <tr>\n",
       "      <th>3</th>\n",
       "      <td>5.3</td>\n",
       "      <td>2010-03-09 07:51:00+00:00</td>\n",
       "      <td>-73.968095</td>\n",
       "      <td>40.768008</td>\n",
       "      <td>-73.956655</td>\n",
       "      <td>40.783762</td>\n",
       "      <td>1</td>\n",
       "      <td>1.999157</td>\n",
       "      <td>2010-03-09 03:51:00+00:00</td>\n",
       "      <td>3</td>\n",
       "      <td>AM</td>\n",
       "      <td>Tue</td>\n",
       "    </tr>\n",
       "    <tr>\n",
       "      <th>4</th>\n",
       "      <td>12.1</td>\n",
       "      <td>2011-01-06 09:50:45+00:00</td>\n",
       "      <td>-74.000964</td>\n",
       "      <td>40.731630</td>\n",
       "      <td>-73.972892</td>\n",
       "      <td>40.758233</td>\n",
       "      <td>1</td>\n",
       "      <td>3.787239</td>\n",
       "      <td>2011-01-06 05:50:45+00:00</td>\n",
       "      <td>5</td>\n",
       "      <td>AM</td>\n",
       "      <td>Thu</td>\n",
       "    </tr>\n",
       "  </tbody>\n",
       "</table>\n",
       "</div>"
      ],
      "text/plain": [
       "   fare_amount           pickup_datetime  pickup_longitude  pickup_latitude  \\\n",
       "0         16.9 2010-01-05 16:52:16+00:00        -74.016048        40.711303   \n",
       "1          5.7 2011-08-18 00:35:00+00:00        -73.982738        40.761270   \n",
       "2          7.7 2012-04-21 04:30:42+00:00        -73.987130        40.733143   \n",
       "3          5.3 2010-03-09 07:51:00+00:00        -73.968095        40.768008   \n",
       "4         12.1 2011-01-06 09:50:45+00:00        -74.000964        40.731630   \n",
       "\n",
       "   dropoff_longitude  dropoff_latitude  passenger_count   dist_km  \\\n",
       "0         -73.979268         40.782004                1  8.450134   \n",
       "1         -73.991242         40.750562                2  1.389525   \n",
       "2         -73.991567         40.758092                1  2.799270   \n",
       "3         -73.956655         40.783762                1  1.999157   \n",
       "4         -73.972892         40.758233                1  3.787239   \n",
       "\n",
       "                        EDT  Hour AMorPM Weekday  \n",
       "0 2010-01-05 12:52:16+00:00    12     PM     Tue  \n",
       "1 2011-08-17 20:35:00+00:00    20     PM     Thu  \n",
       "2 2012-04-21 00:30:42+00:00     0     AM     Sat  \n",
       "3 2010-03-09 03:51:00+00:00     3     AM     Tue  \n",
       "4 2011-01-06 05:50:45+00:00     5     AM     Thu  "
      ]
     },
     "execution_count": 29,
     "metadata": {},
     "output_type": "execute_result"
    }
   ],
   "source": [
    "# one thing important to notice is the time zone which is UTC\n",
    "# the time zone of New York city is Eastern Daylight Time (EDT) which is 4 hours behind UTC\n",
    "# that's an important information if we want to create a feature with the AM and PM time format\n",
    "# create a new column that contains the eastern daylight time\n",
    "df_final['EDT'] = df_final['pickup_datetime'] - pd.Timedelta(hours = 4)\n",
    "\n",
    "# create a new column that indicates the hour\n",
    "df_final['Hour'] = df_final['EDT'].dt.hour\n",
    "\n",
    "# create a new column that indicates in which half of the day the time belongs to, AM or PM\n",
    "df_final['AMorPM'] = np.where(df_final['Hour'] < 12, 'AM', 'PM')\n",
    "\n",
    "# create a new column that contains the weekday\n",
    "df_final['Weekday'] = df_final['pickup_datetime'].dt.strftime('%a')\n",
    "df_final.head()"
   ]
  },
  {
   "cell_type": "code",
   "execution_count": 30,
   "metadata": {
    "colab": {
     "base_uri": "https://localhost:8080/"
    },
    "executionInfo": {
     "elapsed": 251,
     "status": "ok",
     "timestamp": 1686649122255,
     "user": {
      "displayName": "Sofiane Ikkour",
      "userId": "12163968403439377340"
     },
     "user_tz": -120
    },
    "id": "vDqxaaGBaL3m",
    "outputId": "c02a21e6-2b29-4241-c45a-f6f8866d519a"
   },
   "outputs": [
    {
     "name": "stdout",
     "output_type": "stream",
     "text": [
      "<class 'pandas.core.frame.DataFrame'>\n",
      "RangeIndex: 180579 entries, 0 to 180578\n",
      "Data columns (total 12 columns):\n",
      " #   Column             Non-Null Count   Dtype              \n",
      "---  ------             --------------   -----              \n",
      " 0   fare_amount        180579 non-null  float64            \n",
      " 1   pickup_datetime    180579 non-null  datetime64[ns, UTC]\n",
      " 2   pickup_longitude   180579 non-null  float64            \n",
      " 3   pickup_latitude    180579 non-null  float64            \n",
      " 4   dropoff_longitude  180579 non-null  float64            \n",
      " 5   dropoff_latitude   180579 non-null  float64            \n",
      " 6   passenger_count    180579 non-null  int64              \n",
      " 7   dist_km            180579 non-null  float64            \n",
      " 8   EDT                180579 non-null  datetime64[ns, UTC]\n",
      " 9   Hour               180579 non-null  int64              \n",
      " 10  AMorPM             180579 non-null  object             \n",
      " 11  Weekday            180579 non-null  object             \n",
      "dtypes: datetime64[ns, UTC](2), float64(6), int64(2), object(2)\n",
      "memory usage: 16.5+ MB\n"
     ]
    }
   ],
   "source": [
    "df_final.info()"
   ]
  },
  {
   "cell_type": "markdown",
   "metadata": {
    "id": "Cpv1dU33Qm7z"
   },
   "source": [
    "**Categorical and continuous features**"
   ]
  },
  {
   "cell_type": "code",
   "execution_count": 31,
   "metadata": {
    "colab": {
     "base_uri": "https://localhost:8080/"
    },
    "executionInfo": {
     "elapsed": 234,
     "status": "ok",
     "timestamp": 1686651199909,
     "user": {
      "displayName": "Sofiane Ikkour",
      "userId": "12163968403439377340"
     },
     "user_tz": -120
    },
    "id": "RR-x994mMMCo",
    "outputId": "817cad08-0d31-4658-c6ca-591e7320c45e"
   },
   "outputs": [
    {
     "name": "stdout",
     "output_type": "stream",
     "text": [
      "<class 'pandas.core.frame.DataFrame'>\n",
      "RangeIndex: 180579 entries, 0 to 180578\n",
      "Data columns (total 12 columns):\n",
      " #   Column             Non-Null Count   Dtype              \n",
      "---  ------             --------------   -----              \n",
      " 0   fare_amount        180579 non-null  float64            \n",
      " 1   pickup_datetime    180579 non-null  datetime64[ns, UTC]\n",
      " 2   pickup_longitude   180579 non-null  float64            \n",
      " 3   pickup_latitude    180579 non-null  float64            \n",
      " 4   dropoff_longitude  180579 non-null  float64            \n",
      " 5   dropoff_latitude   180579 non-null  float64            \n",
      " 6   passenger_count    180579 non-null  int64              \n",
      " 7   dist_km            180579 non-null  float64            \n",
      " 8   EDT                180579 non-null  datetime64[ns, UTC]\n",
      " 9   Hour               180579 non-null  category           \n",
      " 10  AMorPM             180579 non-null  category           \n",
      " 11  Weekday            180579 non-null  category           \n",
      "dtypes: category(3), datetime64[ns, UTC](2), float64(6), int64(1)\n",
      "memory usage: 12.9 MB\n"
     ]
    }
   ],
   "source": [
    "# our dataframe now has a mix of both categorical and continuous variables\n",
    "# let's separate the categorical and continuous variables, store the target in a separate variable as well\n",
    "cat_cols = ['Hour', 'AMorPM', 'Weekday']\n",
    "cont_cols = ['pickup_longitude', 'pickup_latitude', 'dropoff_longitude', 'dropoff_latitude', 'passenger_count', 'dist_km']\n",
    "y_cont = ['fare_amount']\n",
    "\n",
    "# the df.info() shows that the categorical features are stored as stings or integer data types\n",
    "# what we need to do next is to convert those features into categorical data types\n",
    "for cat in cat_cols:\n",
    "  df_final[cat] = df_final[cat].astype('category')\n",
    "\n",
    "# check the data types\n",
    "df_final.info()"
   ]
  },
  {
   "cell_type": "code",
   "execution_count": 32,
   "metadata": {
    "colab": {
     "base_uri": "https://localhost:8080/"
    },
    "executionInfo": {
     "elapsed": 258,
     "status": "ok",
     "timestamp": 1686650220985,
     "user": {
      "displayName": "Sofiane Ikkour",
      "userId": "12163968403439377340"
     },
     "user_tz": -120
    },
    "id": "ocKRBvtDgB5u",
    "outputId": "f624eb07-dd4c-43f2-fa3b-6faae16dc32a"
   },
   "outputs": [
    {
     "name": "stdout",
     "output_type": "stream",
     "text": [
      "The number of categories in the \"Hour\" column is: 24\n",
      "The number of categories in the \"AMorPM\" column is: 2\n",
      "The number of categories in the \"Weekday\" column is: 7\n"
     ]
    }
   ],
   "source": [
    "# the variables are now converted into category data type\n",
    "# let's print the number of categories that each variable has\n",
    "print('The number of categories in the \"Hour\" column is:', df_final['Hour'].nunique())\n",
    "print('The number of categories in the \"AMorPM\" column is:', df_final['AMorPM'].nunique())\n",
    "print('The number of categories in the \"Weekday\" column is:', df_final['Weekday'].nunique())"
   ]
  },
  {
   "cell_type": "code",
   "execution_count": 33,
   "metadata": {
    "colab": {
     "base_uri": "https://localhost:8080/"
    },
    "executionInfo": {
     "elapsed": 259,
     "status": "ok",
     "timestamp": 1686650223515,
     "user": {
      "displayName": "Sofiane Ikkour",
      "userId": "12163968403439377340"
     },
     "user_tz": -120
    },
    "id": "sB_3X3ZH9utB",
    "outputId": "a1b28800-dff0-4486-95bd-d4afb86e653d"
   },
   "outputs": [
    {
     "name": "stdout",
     "output_type": "stream",
     "text": [
      "Hour categories\n",
      ": Int64Index([ 0,  1,  2,  3,  4,  5,  6,  7,  8,  9, 10, 11, 12, 13, 14, 15, 16,\n",
      "            17, 18, 19, 20, 21, 22, 23],\n",
      "           dtype='int64')\n",
      "Hour codes\n",
      ": 0         12\n",
      "1         20\n",
      "2          0\n",
      "3          3\n",
      "4          5\n",
      "          ..\n",
      "180574    19\n",
      "180575     7\n",
      "180576     9\n",
      "180577    14\n",
      "180578    15\n",
      "Length: 180579, dtype: int8\n",
      "\n",
      "\n",
      "AMorPM categories\n",
      ": Index(['AM', 'PM'], dtype='object')\n",
      "AMorPM codes\n",
      ": 0         12\n",
      "1         20\n",
      "2          0\n",
      "3          3\n",
      "4          5\n",
      "          ..\n",
      "180574    19\n",
      "180575     7\n",
      "180576     9\n",
      "180577    14\n",
      "180578    15\n",
      "Length: 180579, dtype: int8\n",
      "\n",
      "\n",
      "Weekday categories\n",
      ": Index(['Fri', 'Mon', 'Sat', 'Sun', 'Thu', 'Tue', 'Wed'], dtype='object')\n",
      "Weekday codes\n",
      ": 0         5\n",
      "1         4\n",
      "2         2\n",
      "3         5\n",
      "4         4\n",
      "         ..\n",
      "180574    4\n",
      "180575    4\n",
      "180576    4\n",
      "180577    2\n",
      "180578    0\n",
      "Length: 180579, dtype: int8\n"
     ]
    }
   ],
   "source": [
    "# so the number of categories in the \"Hour\" column is 24 which corresponds to 24 hours\n",
    "# the number of categories in the \"AMorPM\" column is 2: AM and PM\n",
    "# the number of categories in the \"Weekday\" column is 7 which corresponds to the 7 days of the week\n",
    "# for each column, every category is associated with a code\n",
    "# let's print the categories and the associated codes for each column\n",
    "print('Hour categories\\n:', df_final['Hour'].cat.categories)\n",
    "print('Hour codes\\n:', df_final['Hour'].cat.codes)\n",
    "print('\\n\\nAMorPM categories\\n:', df_final['AMorPM'].cat.categories)\n",
    "print('AMorPM codes\\n:', df_final['Hour'].cat.codes)\n",
    "print('\\n\\nWeekday categories\\n:', df_final['Weekday'].cat.categories)\n",
    "print('Weekday codes\\n:', df_final['Weekday'].cat.codes)"
   ]
  },
  {
   "cell_type": "code",
   "execution_count": 34,
   "metadata": {
    "colab": {
     "base_uri": "https://localhost:8080/"
    },
    "executionInfo": {
     "elapsed": 246,
     "status": "ok",
     "timestamp": 1686651205404,
     "user": {
      "displayName": "Sofiane Ikkour",
      "userId": "12163968403439377340"
     },
     "user_tz": -120
    },
    "id": "2NMi5d4-EBRx",
    "outputId": "bca16a51-1b69-4995-908c-b83268dfa710"
   },
   "outputs": [
    {
     "data": {
      "text/plain": [
       "array([[12,  1,  5],\n",
       "       [20,  1,  4],\n",
       "       [ 0,  0,  2],\n",
       "       ...,\n",
       "       [ 9,  0,  4],\n",
       "       [14,  1,  2],\n",
       "       [15,  1,  0]], dtype=int8)"
      ]
     },
     "execution_count": 34,
     "metadata": {},
     "output_type": "execute_result"
    }
   ],
   "source": [
    "# store the these associated codes in separate variables\n",
    "hour = df_final['Hour'].cat.codes.values # numpy array\n",
    "amorpm = df_final['AMorPM'].cat.codes.values # numpy array\n",
    "weekday = df_final['Weekday'].cat.codes.values # numpy array\n",
    "\n",
    "# stack these variables by column\n",
    "cats = np.stack([hour, amorpm, weekday], axis = 1)\n",
    "# note: we can do the same thing with a list comprehension\n",
    "cats = np.stack([df_final[c].cat.codes.values for c in cat_cols], axis = 1)\n",
    "cats"
   ]
  },
  {
   "cell_type": "code",
   "execution_count": 35,
   "metadata": {
    "colab": {
     "base_uri": "https://localhost:8080/"
    },
    "executionInfo": {
     "elapsed": 435,
     "status": "ok",
     "timestamp": 1686651207543,
     "user": {
      "displayName": "Sofiane Ikkour",
      "userId": "12163968403439377340"
     },
     "user_tz": -120
    },
    "id": "_qBA3gJ9HBbt",
    "outputId": "04525007-b89b-4686-9edb-7c67ac751d3f"
   },
   "outputs": [
    {
     "data": {
      "text/plain": [
       "array([[-74.016048  ,  40.711303  , -73.979268  ,  40.782004  ,\n",
       "          1.        ,   8.4501336 ],\n",
       "       [-73.982738  ,  40.76127   , -73.991242  ,  40.750562  ,\n",
       "          2.        ,   1.38952523],\n",
       "       [-73.98713   ,  40.733143  , -73.991567  ,  40.758092  ,\n",
       "          1.        ,   2.79927024],\n",
       "       ...,\n",
       "       [-73.95401   ,  40.78454   , -73.99029   ,  40.754177  ,\n",
       "          5.        ,   4.5533844 ],\n",
       "       [-73.990152  ,  40.740837  , -73.995193  ,  40.760206  ,\n",
       "          4.        ,   2.19519687],\n",
       "       [-73.972328  ,  40.745277  , -73.987682  ,  40.739162  ,\n",
       "          1.        ,   1.46135785]])"
      ]
     },
     "execution_count": 35,
     "metadata": {},
     "output_type": "execute_result"
    }
   ],
   "source": [
    "# apply the same process to stack the continous variables\n",
    "conts = np.stack([df_final[c] for c in cont_cols], axis = 1)\n",
    "conts"
   ]
  },
  {
   "cell_type": "code",
   "execution_count": 36,
   "metadata": {
    "colab": {
     "base_uri": "https://localhost:8080/"
    },
    "executionInfo": {
     "elapsed": 667,
     "status": "ok",
     "timestamp": 1686651209453,
     "user": {
      "displayName": "Sofiane Ikkour",
      "userId": "12163968403439377340"
     },
     "user_tz": -120
    },
    "id": "KRnhaKgJIP1b",
    "outputId": "bb19636e-0def-40d9-d1dc-7012caae3a22"
   },
   "outputs": [
    {
     "data": {
      "text/plain": [
       "tensor([[12,  1,  5],\n",
       "        [20,  1,  4],\n",
       "        [ 0,  0,  2],\n",
       "        ...,\n",
       "        [ 9,  0,  4],\n",
       "        [14,  1,  2],\n",
       "        [15,  1,  0]])"
      ]
     },
     "execution_count": 36,
     "metadata": {},
     "output_type": "execute_result"
    }
   ],
   "source": [
    "# convert the two matrices to tensors\n",
    "cats = torch.tensor(data = cats, dtype = torch.int64)\n",
    "conts = torch.tensor(data = conts, dtype = torch.float)\n",
    "\n",
    "# print the stacked categories\n",
    "cats"
   ]
  },
  {
   "cell_type": "code",
   "execution_count": 37,
   "metadata": {
    "colab": {
     "base_uri": "https://localhost:8080/"
    },
    "executionInfo": {
     "elapsed": 4,
     "status": "ok",
     "timestamp": 1686649141082,
     "user": {
      "displayName": "Sofiane Ikkour",
      "userId": "12163968403439377340"
     },
     "user_tz": -120
    },
    "id": "iTD_zgeHIts1",
    "outputId": "1413e1c0-923c-4b63-824b-377b4353e0b4"
   },
   "outputs": [
    {
     "data": {
      "text/plain": [
       "tensor([[-74.0160,  40.7113, -73.9793,  40.7820,   1.0000,   8.4501],\n",
       "        [-73.9827,  40.7613, -73.9912,  40.7506,   2.0000,   1.3895],\n",
       "        [-73.9871,  40.7331, -73.9916,  40.7581,   1.0000,   2.7993],\n",
       "        ...,\n",
       "        [-73.9540,  40.7845, -73.9903,  40.7542,   5.0000,   4.5534],\n",
       "        [-73.9902,  40.7408, -73.9952,  40.7602,   4.0000,   2.1952],\n",
       "        [-73.9723,  40.7453, -73.9877,  40.7392,   1.0000,   1.4614]])"
      ]
     },
     "execution_count": 37,
     "metadata": {},
     "output_type": "execute_result"
    }
   ],
   "source": [
    "# print the stacked continuous variables\n",
    "conts"
   ]
  },
  {
   "cell_type": "code",
   "execution_count": 38,
   "metadata": {
    "colab": {
     "base_uri": "https://localhost:8080/"
    },
    "executionInfo": {
     "elapsed": 6,
     "status": "ok",
     "timestamp": 1686651211307,
     "user": {
      "displayName": "Sofiane Ikkour",
      "userId": "12163968403439377340"
     },
     "user_tz": -120
    },
    "id": "VIA2URDAIyJl",
    "outputId": "2a1ce2be-1fea-4e31-d6ad-1993371f5e10"
   },
   "outputs": [
    {
     "data": {
      "text/plain": [
       "tensor([[16.9000],\n",
       "        [ 5.7000],\n",
       "        [ 7.7000],\n",
       "        ...,\n",
       "        [23.0000],\n",
       "        [ 8.9000],\n",
       "        [12.0000]])"
      ]
     },
     "execution_count": 38,
     "metadata": {},
     "output_type": "execute_result"
    }
   ],
   "source": [
    "# finally convert the target variable to a tensor\n",
    "y = torch.tensor(data = df_final[y_cont].values, dtype = torch.float).reshape(-1,1)\n",
    "y"
   ]
  },
  {
   "cell_type": "code",
   "execution_count": 39,
   "metadata": {
    "colab": {
     "base_uri": "https://localhost:8080/"
    },
    "executionInfo": {
     "elapsed": 8,
     "status": "ok",
     "timestamp": 1686649144002,
     "user": {
      "displayName": "Sofiane Ikkour",
      "userId": "12163968403439377340"
     },
     "user_tz": -120
    },
    "id": "SQztK7gV-HUg",
    "outputId": "1b8c5cb2-a82c-4339-acef-98dd20d70aa8"
   },
   "outputs": [
    {
     "data": {
      "text/plain": [
       "torch.Size([180579, 1])"
      ]
     },
     "execution_count": 39,
     "metadata": {},
     "output_type": "execute_result"
    }
   ],
   "source": [
    "y.shape"
   ]
  },
  {
   "cell_type": "code",
   "execution_count": 40,
   "metadata": {
    "colab": {
     "base_uri": "https://localhost:8080/"
    },
    "executionInfo": {
     "elapsed": 456,
     "status": "ok",
     "timestamp": 1686651213822,
     "user": {
      "displayName": "Sofiane Ikkour",
      "userId": "12163968403439377340"
     },
     "user_tz": -120
    },
    "id": "U1EY8ezyJUTO",
    "outputId": "e55f8986-aebe-4aea-b25f-4afbf207226b"
   },
   "outputs": [
    {
     "data": {
      "text/plain": [
       "[24, 2, 7]"
      ]
     },
     "execution_count": 40,
     "metadata": {},
     "output_type": "execute_result"
    }
   ],
   "source": [
    "# use embedding for categorical variables\n",
    "# print the size of each category\n",
    "cat_size = [df_final[c].nunique() for c in df_final[cat_cols]]\n",
    "cat_size"
   ]
  },
  {
   "cell_type": "code",
   "execution_count": 41,
   "metadata": {
    "colab": {
     "base_uri": "https://localhost:8080/"
    },
    "executionInfo": {
     "elapsed": 6,
     "status": "ok",
     "timestamp": 1686651214949,
     "user": {
      "displayName": "Sofiane Ikkour",
      "userId": "12163968403439377340"
     },
     "user_tz": -120
    },
    "id": "On62r6ltMri6",
    "outputId": "a7953642-6f0c-486a-a5ab-ea4c2727e61e"
   },
   "outputs": [
    {
     "data": {
      "text/plain": [
       "[(24, 12), (2, 1), (7, 4)]"
      ]
     },
     "execution_count": 41,
     "metadata": {},
     "output_type": "execute_result"
    }
   ],
   "source": [
    "# determine the size of our embedding\n",
    "# we take half of the unique values of the categories and add one\n",
    "embedding_size = [(size, min(50, (size + 1) // 2)) for size in cat_size]\n",
    "embedding_size"
   ]
  },
  {
   "cell_type": "markdown",
   "metadata": {
    "id": "yZtFcUURmQ04"
   },
   "source": [
    "**Build the model**"
   ]
  },
  {
   "cell_type": "code",
   "execution_count": 42,
   "metadata": {
    "colab": {
     "base_uri": "https://localhost:8080/"
    },
    "executionInfo": {
     "elapsed": 440,
     "status": "ok",
     "timestamp": 1686651216909,
     "user": {
      "displayName": "Sofiane Ikkour",
      "userId": "12163968403439377340"
     },
     "user_tz": -120
    },
    "id": "Kn1CYpd5mXUZ",
    "outputId": "56701eec-30f1-428b-9d1e-6be6cf372ee8"
   },
   "outputs": [
    {
     "data": {
      "text/plain": [
       "ModuleList(\n",
       "  (0): Embedding(24, 12)\n",
       "  (1): Embedding(2, 1)\n",
       "  (2): Embedding(7, 4)\n",
       ")"
      ]
     },
     "execution_count": 42,
     "metadata": {},
     "output_type": "execute_result"
    }
   ],
   "source": [
    "# reorganize the embedding sizes in a pytorch module list\n",
    "emb_mod = nn.ModuleList([nn.Embedding(num_embeddings = ne, embedding_dim = ed) for ne, ed in embedding_size])\n",
    "emb_mod"
   ]
  },
  {
   "cell_type": "code",
   "execution_count": 43,
   "metadata": {
    "id": "Vzkqp-qIOaQR"
   },
   "outputs": [
    {
     "data": {
      "text/plain": [
       "12"
      ]
     },
     "execution_count": 43,
     "metadata": {},
     "output_type": "execute_result"
    }
   ],
   "source": [
    "emb_mod[0].embedding_dim"
   ]
  },
  {
   "cell_type": "code",
   "execution_count": 44,
   "metadata": {
    "colab": {
     "base_uri": "https://localhost:8080/"
    },
    "executionInfo": {
     "elapsed": 249,
     "status": "ok",
     "timestamp": 1686651219384,
     "user": {
      "displayName": "Sofiane Ikkour",
      "userId": "12163968403439377340"
     },
     "user_tz": -120
    },
    "id": "bzBDFhVBPkG9",
    "outputId": "04b7acaf-4936-44de-ba3b-d6c5b3f8ef98"
   },
   "outputs": [
    {
     "data": {
      "text/plain": [
       "17"
      ]
     },
     "execution_count": 44,
     "metadata": {},
     "output_type": "execute_result"
    }
   ],
   "source": [
    "# store the total sum of the embedding dimensions\n",
    "emb_dim = sum([embedding.embedding_dim for embedding in emb_mod])\n",
    "emb_dim"
   ]
  },
  {
   "cell_type": "code",
   "execution_count": 45,
   "metadata": {
    "colab": {
     "base_uri": "https://localhost:8080/"
    },
    "executionInfo": {
     "elapsed": 283,
     "status": "ok",
     "timestamp": 1686651222674,
     "user": {
      "displayName": "Sofiane Ikkour",
      "userId": "12163968403439377340"
     },
     "user_tz": -120
    },
    "id": "JmTurdu12Hx1",
    "outputId": "740b5cae-c9dd-4fa1-e24f-9ef878019514"
   },
   "outputs": [
    {
     "data": {
      "text/plain": [
       "tensor([[12,  1,  5],\n",
       "        [20,  1,  4],\n",
       "        [ 0,  0,  2],\n",
       "        [ 3,  0,  5]])"
      ]
     },
     "execution_count": 45,
     "metadata": {},
     "output_type": "execute_result"
    }
   ],
   "source": [
    "# test the embedding modules on a sample of the tensor \"cats\"\n",
    "# let's say we take the first 4 rows of the tensor\n",
    "catz = cats[:4]\n",
    "catz"
   ]
  },
  {
   "cell_type": "code",
   "execution_count": 46,
   "metadata": {
    "colab": {
     "base_uri": "https://localhost:8080/"
    },
    "executionInfo": {
     "elapsed": 34,
     "status": "ok",
     "timestamp": 1686651223844,
     "user": {
      "displayName": "Sofiane Ikkour",
      "userId": "12163968403439377340"
     },
     "user_tz": -120
    },
    "id": "a1ewNBV62x4x",
    "outputId": "598981fc-4ddc-4464-cdd2-ab92e3890649"
   },
   "outputs": [
    {
     "data": {
      "text/plain": [
       "[tensor([[ 0.7599,  0.8017,  2.3234, -0.0373,  0.9909, -0.4143,  0.1638,  0.6210,\n",
       "          -1.5808, -1.0419, -1.6738,  1.7289],\n",
       "         [-1.4333,  4.0723,  1.2602, -0.3211,  1.3199,  0.5101,  0.3897, -0.2692,\n",
       "          -1.2624, -0.5096, -0.5206, -1.3142],\n",
       "         [ 0.8143, -0.5166,  0.0832,  0.2833,  0.7170, -0.8344, -1.6175,  0.3932,\n",
       "           0.9349,  0.6513,  0.6819, -0.1124],\n",
       "         [-0.9168,  0.7006,  1.4448,  1.4658,  1.3445,  0.2518, -0.9379,  2.2053,\n",
       "          -0.9105,  0.5141, -0.5943, -0.8491]], grad_fn=<EmbeddingBackward0>),\n",
       " tensor([[0.2584],\n",
       "         [0.2584],\n",
       "         [0.7736],\n",
       "         [0.7736]], grad_fn=<EmbeddingBackward0>),\n",
       " tensor([[ 1.2837,  0.1740,  1.2318, -0.9521],\n",
       "         [ 0.7094,  0.5756, -0.4267, -1.6629],\n",
       "         [ 0.0590, -1.6531, -0.4126,  0.6534],\n",
       "         [ 1.2837,  0.1740,  1.2318, -0.9521]], grad_fn=<EmbeddingBackward0>)]"
      ]
     },
     "execution_count": 46,
     "metadata": {},
     "output_type": "execute_result"
    }
   ],
   "source": [
    "# forward mathod (cats)\n",
    "emb_list = []\n",
    "for i, e in enumerate(emb_mod):\n",
    "  emb_list.append(e(catz[:,i]))\n",
    "\n",
    "emb_list"
   ]
  },
  {
   "cell_type": "code",
   "execution_count": 47,
   "metadata": {
    "colab": {
     "base_uri": "https://localhost:8080/"
    },
    "executionInfo": {
     "elapsed": 649,
     "status": "ok",
     "timestamp": 1686651227804,
     "user": {
      "displayName": "Sofiane Ikkour",
      "userId": "12163968403439377340"
     },
     "user_tz": -120
    },
    "id": "E_t7gsbk3eR2",
    "outputId": "666652ad-87cc-448c-eab1-b6775d104450"
   },
   "outputs": [
    {
     "data": {
      "text/plain": [
       "tensor([[ 0.7599,  0.8017,  2.3234, -0.0373,  0.9909, -0.4143,  0.1638,  0.6210,\n",
       "         -1.5808, -1.0419, -1.6738,  1.7289,  0.2584,  1.2837,  0.1740,  1.2318,\n",
       "         -0.9521],\n",
       "        [-1.4333,  4.0723,  1.2602, -0.3211,  1.3199,  0.5101,  0.3897, -0.2692,\n",
       "         -1.2624, -0.5096, -0.5206, -1.3142,  0.2584,  0.7094,  0.5756, -0.4267,\n",
       "         -1.6629],\n",
       "        [ 0.8143, -0.5166,  0.0832,  0.2833,  0.7170, -0.8344, -1.6175,  0.3932,\n",
       "          0.9349,  0.6513,  0.6819, -0.1124,  0.7736,  0.0590, -1.6531, -0.4126,\n",
       "          0.6534],\n",
       "        [-0.9168,  0.7006,  1.4448,  1.4658,  1.3445,  0.2518, -0.9379,  2.2053,\n",
       "         -0.9105,  0.5141, -0.5943, -0.8491,  0.7736,  1.2837,  0.1740,  1.2318,\n",
       "         -0.9521]], grad_fn=<CatBackward0>)"
      ]
     },
     "execution_count": 47,
     "metadata": {},
     "output_type": "execute_result"
    }
   ],
   "source": [
    "# concatenate the tensors\n",
    "emb_concatenated = torch.cat(emb_list, axis = 1)\n",
    "emb_concatenated"
   ]
  },
  {
   "cell_type": "code",
   "execution_count": 48,
   "metadata": {
    "colab": {
     "base_uri": "https://localhost:8080/"
    },
    "executionInfo": {
     "elapsed": 28,
     "status": "ok",
     "timestamp": 1686651229272,
     "user": {
      "displayName": "Sofiane Ikkour",
      "userId": "12163968403439377340"
     },
     "user_tz": -120
    },
    "id": "s_ZnntTk67qw",
    "outputId": "d1f6a55f-a980-4d25-b24e-90ecd39bc3b5"
   },
   "outputs": [
    {
     "data": {
      "text/plain": [
       "tensor([[ 0.0000,  0.0000,  0.0000, -0.0622,  1.6514, -0.0000,  0.2730,  1.0350,\n",
       "         -0.0000, -0.0000, -0.0000,  2.8814,  0.0000,  2.1394,  0.2901,  2.0531,\n",
       "         -0.0000],\n",
       "        [-0.0000,  6.7872,  2.1003, -0.5351,  2.1998,  0.8502,  0.6494, -0.4487,\n",
       "         -2.1040, -0.8493, -0.8676, -0.0000,  0.4306,  0.0000,  0.9594, -0.0000,\n",
       "         -2.7715],\n",
       "        [ 1.3571, -0.0000,  0.1387,  0.4722,  1.1950, -0.0000, -0.0000,  0.6553,\n",
       "          1.5581,  0.0000,  0.0000, -0.1873,  1.2893,  0.0000, -0.0000, -0.6877,\n",
       "          0.0000],\n",
       "        [-0.0000,  0.0000,  2.4080,  2.4430,  2.2408,  0.4197, -1.5632,  0.0000,\n",
       "         -0.0000,  0.8568, -0.9904, -1.4151,  1.2893,  0.0000,  0.2901,  0.0000,\n",
       "         -1.5868]], grad_fn=<MulBackward0>)"
      ]
     },
     "execution_count": 48,
     "metadata": {},
     "output_type": "execute_result"
    }
   ],
   "source": [
    "# pass the embedding layer through a dropout layer\n",
    "emb_drop = nn.Dropout(0.4)\n",
    "emb_concatenated = emb_drop(emb_concatenated)\n",
    "emb_concatenated"
   ]
  },
  {
   "cell_type": "code",
   "execution_count": 49,
   "metadata": {
    "executionInfo": {
     "elapsed": 3,
     "status": "ok",
     "timestamp": 1686651231049,
     "user": {
      "displayName": "Sofiane Ikkour",
      "userId": "12163968403439377340"
     },
     "user_tz": -120
    },
    "id": "RKsCzg7Z9V_d"
   },
   "outputs": [],
   "source": [
    "# the last 4 steps above are techniques intended for test purposes only\n",
    "# these techniques will be used when we'll define the neural network\n",
    "# define the neural network model\n",
    "class Model(nn.Module):\n",
    "  def __init__(self, emb_size, n_conts, layers, out_sz, p = 0.5):\n",
    "    # layers = [200, 100, 50]\n",
    "    super().__init__()\n",
    "\n",
    "    self.emb_mod = nn.ModuleList([nn.Embedding(num_embeddings = ni, embedding_dim = ed) for ni, ed in emb_size])\n",
    "    self.emb_drop = nn.Dropout(p)\n",
    "    self.bn_cont = nn.BatchNorm1d(n_conts)\n",
    "\n",
    "    n_emb_dim = sum([embedding.embedding_dim for embedding in emb_mod])\n",
    "    nf = n_emb_dim + n_conts\n",
    "    layerslist = []\n",
    "    for i in layers:\n",
    "      layerslist.append(nn.Linear(nf, i))\n",
    "      layerslist.append(nn.ReLU(inplace = True))\n",
    "      layerslist.append(nn.BatchNorm1d(i))\n",
    "      layerslist.append(nn.Dropout(p))\n",
    "      nf = i\n",
    "    layerslist.append(nn.Linear(layers[-1], out_sz))\n",
    "    self.layers = nn.Sequential(*layerslist)\n",
    "\n",
    "  def forward(self, x_cat, x_cont):\n",
    "    emb_list = []\n",
    "    for i, e in enumerate(self.emb_mod):\n",
    "      emb_list.append(e(x_cat[:,i]))\n",
    "    x = torch.cat(emb_list, axis = 1)\n",
    "    x = self.emb_drop(x)\n",
    "    x_cont = self.bn_cont(x_cont)\n",
    "    x = torch.cat([x, x_cont], axis = 1)\n",
    "    x = self.layers(x)\n",
    "    return x"
   ]
  },
  {
   "cell_type": "markdown",
   "metadata": {
    "id": "5aycfxfNV2aj"
   },
   "source": [
    "**Train and evaluate the model**"
   ]
  },
  {
   "cell_type": "code",
   "execution_count": 50,
   "metadata": {
    "executionInfo": {
     "elapsed": 286,
     "status": "ok",
     "timestamp": 1686651234895,
     "user": {
      "displayName": "Sofiane Ikkour",
      "userId": "12163968403439377340"
     },
     "user_tz": -120
    },
    "id": "3w1T3aMqE9wD"
   },
   "outputs": [],
   "source": [
    "# split the data into train, validation and test sets\n",
    "batch_size = df_final.shape[0]\n",
    "test_size = int(batch_size * 0.2)\n",
    "cat_train = cats[:batch_size-test_size]\n",
    "con_train = conts[:batch_size-test_size]\n",
    "cat_test = cats[batch_size-test_size:batch_size]\n",
    "con_test = conts[batch_size-test_size:batch_size]\n",
    "val_size = int(cat_train.shape[0] * 0.2)\n",
    "cat_val = cat_train[cat_train.shape[0]-val_size:cat_train.shape[0]]\n",
    "con_val = con_train[con_train.shape[0]-val_size:con_train.shape[0]]\n",
    "cat_train = cat_train[:cat_train.shape[0]-val_size]\n",
    "con_train = con_train[:con_train.shape[0]-val_size]\n",
    "y_train = y[:batch_size-test_size]\n",
    "y_val = y_train[y_train.shape[0]-val_size:y_train.shape[0]]\n",
    "y_train = y_train[:y_train.shape[0]-val_size]\n",
    "y_test = y[batch_size-test_size:batch_size]"
   ]
  },
  {
   "cell_type": "code",
   "execution_count": 51,
   "metadata": {
    "colab": {
     "base_uri": "https://localhost:8080/"
    },
    "executionInfo": {
     "elapsed": 280,
     "status": "ok",
     "timestamp": 1686651236935,
     "user": {
      "displayName": "Sofiane Ikkour",
      "userId": "12163968403439377340"
     },
     "user_tz": -120
    },
    "id": "HxwFRIjKBpBx",
    "outputId": "bf5ab6f7-fc58-43d5-a259-d805f9496f63"
   },
   "outputs": [
    {
     "name": "stdout",
     "output_type": "stream",
     "text": [
      "cat_train.shape: torch.Size([115572, 3])\n",
      "con_train.shape: torch.Size([115572, 6])\n",
      "cat_val.shape: torch.Size([28892, 3])\n",
      "con_val.shape: torch.Size([28892, 6])\n",
      "cat_test.shape: torch.Size([36115, 3])\n",
      "con_test.shape: torch.Size([36115, 6])\n",
      "y_train.shape: torch.Size([115572, 1])\n",
      "y_val.shape: torch.Size([28892, 1])\n",
      "y_test.shape: torch.Size([36115, 1])\n"
     ]
    }
   ],
   "source": [
    "# print the shape of the splitted sets\n",
    "print('cat_train.shape:', cat_train.shape)\n",
    "print('con_train.shape:', con_train.shape)\n",
    "print('cat_val.shape:', cat_val.shape)\n",
    "print('con_val.shape:', con_val.shape)\n",
    "print('cat_test.shape:', cat_test.shape)\n",
    "print('con_test.shape:', con_test.shape)\n",
    "print('y_train.shape:', y_train.shape)\n",
    "print('y_val.shape:', y_val.shape)\n",
    "print('y_test.shape:', y_test.shape)"
   ]
  },
  {
   "cell_type": "code",
   "execution_count": 52,
   "metadata": {
    "colab": {
     "base_uri": "https://localhost:8080/"
    },
    "executionInfo": {
     "elapsed": 282,
     "status": "ok",
     "timestamp": 1686651242884,
     "user": {
      "displayName": "Sofiane Ikkour",
      "userId": "12163968403439377340"
     },
     "user_tz": -120
    },
    "id": "4lYl_f7GD69a",
    "outputId": "18bf4aa1-7aa8-4b40-901a-52a3dc5ef30f"
   },
   "outputs": [
    {
     "data": {
      "text/plain": [
       "Model(\n",
       "  (emb_mod): ModuleList(\n",
       "    (0): Embedding(24, 12)\n",
       "    (1): Embedding(2, 1)\n",
       "    (2): Embedding(7, 4)\n",
       "  )\n",
       "  (emb_drop): Dropout(p=0.4, inplace=False)\n",
       "  (bn_cont): BatchNorm1d(6, eps=1e-05, momentum=0.1, affine=True, track_running_stats=True)\n",
       "  (layers): Sequential(\n",
       "    (0): Linear(in_features=23, out_features=100, bias=True)\n",
       "    (1): ReLU(inplace=True)\n",
       "    (2): BatchNorm1d(100, eps=1e-05, momentum=0.1, affine=True, track_running_stats=True)\n",
       "    (3): Dropout(p=0.4, inplace=False)\n",
       "    (4): Linear(in_features=100, out_features=50, bias=True)\n",
       "    (5): ReLU(inplace=True)\n",
       "    (6): BatchNorm1d(50, eps=1e-05, momentum=0.1, affine=True, track_running_stats=True)\n",
       "    (7): Dropout(p=0.4, inplace=False)\n",
       "    (8): Linear(in_features=50, out_features=1, bias=True)\n",
       "  )\n",
       ")"
      ]
     },
     "execution_count": 52,
     "metadata": {},
     "output_type": "execute_result"
    }
   ],
   "source": [
    "# create an instance of the model\n",
    "model = Model(embedding_size, conts.shape[1], [100, 50], 1, p = 0.4)\n",
    "\n",
    "# this model has 1 input layer, 2 hidden layers and 1 output layer\n",
    "# the dropout value is 0.4\n",
    "model"
   ]
  },
  {
   "cell_type": "code",
   "execution_count": 53,
   "metadata": {
    "colab": {
     "base_uri": "https://localhost:8080/"
    },
    "executionInfo": {
     "elapsed": 202756,
     "status": "ok",
     "timestamp": 1686651448954,
     "user": {
      "displayName": "Sofiane Ikkour",
      "userId": "12163968403439377340"
     },
     "user_tz": -120
    },
    "id": "-sBSQq20FPZB",
    "outputId": "18add96b-e890-4537-b110-278efcc74994"
   },
   "outputs": [
    {
     "name": "stdout",
     "output_type": "stream",
     "text": [
      "Epoch: 1 Train_loss: 11.244749069213867 Val_loss: 11.222382545471191\n",
      "Epoch: 2 Train_loss: 11.212297439575195 Val_loss: 11.182516098022461\n",
      "Epoch: 3 Train_loss: 11.177755355834961 Val_loss: 11.148321151733398\n",
      "Epoch: 4 Train_loss: 11.142568588256836 Val_loss: 11.108942985534668\n",
      "Epoch: 5 Train_loss: 11.10972785949707 Val_loss: 11.068931579589844\n",
      "Epoch: 6 Train_loss: 11.068083763122559 Val_loss: 11.035297393798828\n",
      "Epoch: 7 Train_loss: 11.0418701171875 Val_loss: 11.006389617919922\n",
      "Epoch: 8 Train_loss: 11.019100189208984 Val_loss: 10.95338249206543\n",
      "Epoch: 9 Train_loss: 10.980683326721191 Val_loss: 10.92278003692627\n",
      "Epoch: 10 Train_loss: 10.943100929260254 Val_loss: 10.886717796325684\n",
      "Epoch: 11 Train_loss: 10.913955688476562 Val_loss: 10.8521089553833\n",
      "Epoch: 12 Train_loss: 10.880087852478027 Val_loss: 10.808122634887695\n",
      "Epoch: 13 Train_loss: 10.855396270751953 Val_loss: 10.773441314697266\n",
      "Epoch: 14 Train_loss: 10.815752029418945 Val_loss: 10.73764705657959\n",
      "Epoch: 15 Train_loss: 10.781806945800781 Val_loss: 10.70865535736084\n",
      "Epoch: 16 Train_loss: 10.73827838897705 Val_loss: 10.670710563659668\n",
      "Epoch: 17 Train_loss: 10.704024314880371 Val_loss: 10.634926795959473\n",
      "Epoch: 18 Train_loss: 10.710618019104004 Val_loss: 10.605168342590332\n",
      "Epoch: 19 Train_loss: 10.650784492492676 Val_loss: 10.570747375488281\n",
      "Epoch: 20 Train_loss: 10.641724586486816 Val_loss: 10.542519569396973\n",
      "Epoch: 21 Train_loss: 10.590655326843262 Val_loss: 10.504383087158203\n",
      "Epoch: 22 Train_loss: 10.562443733215332 Val_loss: 10.48010540008545\n",
      "Epoch: 23 Train_loss: 10.545875549316406 Val_loss: 10.44981575012207\n",
      "Epoch: 24 Train_loss: 10.531501770019531 Val_loss: 10.420723915100098\n",
      "Epoch: 25 Train_loss: 10.485918998718262 Val_loss: 10.397394180297852\n",
      "Epoch: 26 Train_loss: 10.444620132446289 Val_loss: 10.3555908203125\n",
      "Epoch: 27 Train_loss: 10.428812026977539 Val_loss: 10.3439302444458\n",
      "Epoch: 28 Train_loss: 10.405540466308594 Val_loss: 10.31264591217041\n",
      "Epoch: 29 Train_loss: 10.379632949829102 Val_loss: 10.283379554748535\n",
      "Epoch: 30 Train_loss: 10.360127449035645 Val_loss: 10.263261795043945\n",
      "Epoch: 31 Train_loss: 10.326608657836914 Val_loss: 10.244078636169434\n",
      "Epoch: 32 Train_loss: 10.307796478271484 Val_loss: 10.227787017822266\n",
      "Epoch: 33 Train_loss: 10.27242660522461 Val_loss: 10.200807571411133\n",
      "Epoch: 34 Train_loss: 10.254683494567871 Val_loss: 10.179183006286621\n",
      "Epoch: 35 Train_loss: 10.244141578674316 Val_loss: 10.157561302185059\n",
      "Epoch: 36 Train_loss: 10.231992721557617 Val_loss: 10.158235549926758\n",
      "Epoch: 37 Train_loss: 10.166040420532227 Val_loss: 10.121175765991211\n",
      "Epoch: 38 Train_loss: 10.167923927307129 Val_loss: 10.095951080322266\n",
      "Epoch: 39 Train_loss: 10.137060165405273 Val_loss: 10.09449291229248\n",
      "Epoch: 40 Train_loss: 10.12618350982666 Val_loss: 10.05977725982666\n",
      "Epoch: 41 Train_loss: 10.100567817687988 Val_loss: 10.042919158935547\n",
      "Epoch: 42 Train_loss: 10.087228775024414 Val_loss: 10.031982421875\n",
      "Epoch: 43 Train_loss: 10.081915855407715 Val_loss: 10.011302947998047\n",
      "Epoch: 44 Train_loss: 10.050546646118164 Val_loss: 9.988241195678711\n",
      "Epoch: 45 Train_loss: 10.03326416015625 Val_loss: 9.985548973083496\n",
      "Epoch: 46 Train_loss: 10.016999244689941 Val_loss: 9.965526580810547\n",
      "Epoch: 47 Train_loss: 9.995637893676758 Val_loss: 9.95331859588623\n",
      "Epoch: 48 Train_loss: 9.98654556274414 Val_loss: 9.927933692932129\n",
      "Epoch: 49 Train_loss: 9.963006019592285 Val_loss: 9.906818389892578\n",
      "Epoch: 50 Train_loss: 9.943594932556152 Val_loss: 9.905787467956543\n",
      "Epoch: 51 Train_loss: 9.926097869873047 Val_loss: 9.893816947937012\n",
      "Epoch: 52 Train_loss: 9.947868347167969 Val_loss: 9.868348121643066\n",
      "Epoch: 53 Train_loss: 9.904657363891602 Val_loss: 9.863329887390137\n",
      "Epoch: 54 Train_loss: 9.880546569824219 Val_loss: 9.841032028198242\n",
      "Epoch: 55 Train_loss: 9.877602577209473 Val_loss: 9.82827377319336\n",
      "Epoch: 56 Train_loss: 9.846772193908691 Val_loss: 9.831809997558594\n",
      "Epoch: 57 Train_loss: 9.848673820495605 Val_loss: 9.815591812133789\n",
      "Epoch: 58 Train_loss: 9.828083038330078 Val_loss: 9.791722297668457\n",
      "Epoch: 59 Train_loss: 9.8260498046875 Val_loss: 9.793710708618164\n",
      "Epoch: 60 Train_loss: 9.79902458190918 Val_loss: 9.784760475158691\n",
      "Epoch: 61 Train_loss: 9.780156135559082 Val_loss: 9.753412246704102\n",
      "Epoch: 62 Train_loss: 9.777706146240234 Val_loss: 9.748576164245605\n",
      "Epoch: 63 Train_loss: 9.789098739624023 Val_loss: 9.744537353515625\n",
      "Epoch: 64 Train_loss: 9.75122356414795 Val_loss: 9.729378700256348\n",
      "Epoch: 65 Train_loss: 9.735444068908691 Val_loss: 9.71693229675293\n",
      "Epoch: 66 Train_loss: 9.718742370605469 Val_loss: 9.710419654846191\n",
      "Epoch: 67 Train_loss: 9.713184356689453 Val_loss: 9.704124450683594\n",
      "Epoch: 68 Train_loss: 9.692749977111816 Val_loss: 9.687859535217285\n",
      "Epoch: 69 Train_loss: 9.690914154052734 Val_loss: 9.680843353271484\n",
      "Epoch: 70 Train_loss: 9.69856071472168 Val_loss: 9.663057327270508\n",
      "Epoch: 71 Train_loss: 9.653009414672852 Val_loss: 9.647761344909668\n",
      "Epoch: 72 Train_loss: 9.646404266357422 Val_loss: 9.639486312866211\n",
      "Epoch: 73 Train_loss: 9.643514633178711 Val_loss: 9.635750770568848\n",
      "Epoch: 74 Train_loss: 9.62182903289795 Val_loss: 9.628121376037598\n",
      "Epoch: 75 Train_loss: 9.613780975341797 Val_loss: 9.601845741271973\n",
      "Epoch: 76 Train_loss: 9.63487720489502 Val_loss: 9.592019081115723\n",
      "Epoch: 77 Train_loss: 9.58700180053711 Val_loss: 9.58958625793457\n",
      "Epoch: 78 Train_loss: 9.575057029724121 Val_loss: 9.559826850891113\n",
      "Epoch: 79 Train_loss: 9.566075325012207 Val_loss: 9.546833038330078\n",
      "Epoch: 80 Train_loss: 9.54943561553955 Val_loss: 9.547032356262207\n",
      "Epoch: 81 Train_loss: 9.556354522705078 Val_loss: 9.53060531616211\n",
      "Epoch: 82 Train_loss: 9.554170608520508 Val_loss: 9.510605812072754\n",
      "Epoch: 83 Train_loss: 9.516810417175293 Val_loss: 9.506213188171387\n",
      "Epoch: 84 Train_loss: 9.504941940307617 Val_loss: 9.496293067932129\n",
      "Epoch: 85 Train_loss: 9.488568305969238 Val_loss: 9.486653327941895\n",
      "Epoch: 86 Train_loss: 9.47468376159668 Val_loss: 9.459650039672852\n",
      "Epoch: 87 Train_loss: 9.47010612487793 Val_loss: 9.464195251464844\n",
      "Epoch: 88 Train_loss: 9.45242691040039 Val_loss: 9.438380241394043\n",
      "Epoch: 89 Train_loss: 9.440961837768555 Val_loss: 9.423011779785156\n",
      "Epoch: 90 Train_loss: 9.42192268371582 Val_loss: 9.422102928161621\n",
      "Epoch: 91 Train_loss: 9.418846130371094 Val_loss: 9.412076950073242\n",
      "Epoch: 92 Train_loss: 9.40489387512207 Val_loss: 9.393611907958984\n",
      "Epoch: 93 Train_loss: 9.380728721618652 Val_loss: 9.382135391235352\n",
      "Epoch: 94 Train_loss: 9.374564170837402 Val_loss: 9.3740873336792\n",
      "Epoch: 95 Train_loss: 9.372359275817871 Val_loss: 9.347097396850586\n",
      "Epoch: 96 Train_loss: 9.34220027923584 Val_loss: 9.345186233520508\n",
      "Epoch: 97 Train_loss: 9.329483032226562 Val_loss: 9.331506729125977\n",
      "Epoch: 98 Train_loss: 9.31286334991455 Val_loss: 9.31452465057373\n",
      "Epoch: 99 Train_loss: 9.300347328186035 Val_loss: 9.288921356201172\n",
      "Epoch: 100 Train_loss: 9.28210735321045 Val_loss: 9.287644386291504\n",
      "Epoch: 101 Train_loss: 9.269875526428223 Val_loss: 9.280937194824219\n",
      "Epoch: 102 Train_loss: 9.251184463500977 Val_loss: 9.244330406188965\n",
      "Epoch: 103 Train_loss: 9.252613067626953 Val_loss: 9.246332168579102\n",
      "Epoch: 104 Train_loss: 9.232613563537598 Val_loss: 9.230401992797852\n",
      "Epoch: 105 Train_loss: 9.211709022521973 Val_loss: 9.204880714416504\n",
      "Epoch: 106 Train_loss: 9.203385353088379 Val_loss: 9.1920804977417\n",
      "Epoch: 107 Train_loss: 9.184549331665039 Val_loss: 9.191582679748535\n",
      "Epoch: 108 Train_loss: 9.163147926330566 Val_loss: 9.157917976379395\n",
      "Epoch: 109 Train_loss: 9.145730018615723 Val_loss: 9.1420259475708\n",
      "Epoch: 110 Train_loss: 9.140057563781738 Val_loss: 9.126058578491211\n",
      "Epoch: 111 Train_loss: 9.1116304397583 Val_loss: 9.112393379211426\n",
      "Epoch: 112 Train_loss: 9.101487159729004 Val_loss: 9.083317756652832\n",
      "Epoch: 113 Train_loss: 9.08641529083252 Val_loss: 9.078740119934082\n",
      "Epoch: 114 Train_loss: 9.064535140991211 Val_loss: 9.055207252502441\n",
      "Epoch: 115 Train_loss: 9.052271842956543 Val_loss: 9.044573783874512\n",
      "Epoch: 116 Train_loss: 9.027656555175781 Val_loss: 9.01787281036377\n",
      "Epoch: 117 Train_loss: 9.008932113647461 Val_loss: 9.010492324829102\n",
      "Epoch: 118 Train_loss: 8.997364044189453 Val_loss: 8.991643905639648\n",
      "Epoch: 119 Train_loss: 8.969952583312988 Val_loss: 8.966132164001465\n",
      "Epoch: 120 Train_loss: 8.953856468200684 Val_loss: 8.939786911010742\n"
     ]
    },
    {
     "name": "stdout",
     "output_type": "stream",
     "text": [
      "Epoch: 121 Train_loss: 8.933514595031738 Val_loss: 8.928093910217285\n",
      "Epoch: 122 Train_loss: 8.917370796203613 Val_loss: 8.923195838928223\n",
      "Epoch: 123 Train_loss: 8.896604537963867 Val_loss: 8.891216278076172\n",
      "Epoch: 124 Train_loss: 8.876983642578125 Val_loss: 8.875728607177734\n",
      "Epoch: 125 Train_loss: 8.8538236618042 Val_loss: 8.843806266784668\n",
      "Epoch: 126 Train_loss: 8.842313766479492 Val_loss: 8.839861869812012\n",
      "Epoch: 127 Train_loss: 8.825594902038574 Val_loss: 8.820266723632812\n",
      "Epoch: 128 Train_loss: 8.798007011413574 Val_loss: 8.784574508666992\n",
      "Epoch: 129 Train_loss: 8.765466690063477 Val_loss: 8.766501426696777\n",
      "Epoch: 130 Train_loss: 8.770918846130371 Val_loss: 8.756921768188477\n",
      "Epoch: 131 Train_loss: 8.737829208374023 Val_loss: 8.72642707824707\n",
      "Epoch: 132 Train_loss: 8.705621719360352 Val_loss: 8.69812297821045\n",
      "Epoch: 133 Train_loss: 8.703782081604004 Val_loss: 8.686505317687988\n",
      "Epoch: 134 Train_loss: 8.672745704650879 Val_loss: 8.659746170043945\n",
      "Epoch: 135 Train_loss: 8.633904457092285 Val_loss: 8.640387535095215\n",
      "Epoch: 136 Train_loss: 8.637767791748047 Val_loss: 8.613787651062012\n",
      "Epoch: 137 Train_loss: 8.603145599365234 Val_loss: 8.591011047363281\n",
      "Epoch: 138 Train_loss: 8.571791648864746 Val_loss: 8.563854217529297\n",
      "Epoch: 139 Train_loss: 8.557214736938477 Val_loss: 8.53676986694336\n",
      "Epoch: 140 Train_loss: 8.518787384033203 Val_loss: 8.530088424682617\n",
      "Epoch: 141 Train_loss: 8.500375747680664 Val_loss: 8.492427825927734\n",
      "Epoch: 142 Train_loss: 8.475970268249512 Val_loss: 8.48399543762207\n",
      "Epoch: 143 Train_loss: 8.456255912780762 Val_loss: 8.451309204101562\n",
      "Epoch: 144 Train_loss: 8.42346477508545 Val_loss: 8.431586265563965\n",
      "Epoch: 145 Train_loss: 8.408258438110352 Val_loss: 8.396700859069824\n",
      "Epoch: 146 Train_loss: 8.382453918457031 Val_loss: 8.363020896911621\n",
      "Epoch: 147 Train_loss: 8.35241985321045 Val_loss: 8.35914134979248\n",
      "Epoch: 148 Train_loss: 8.324796676635742 Val_loss: 8.32071304321289\n",
      "Epoch: 149 Train_loss: 8.294733047485352 Val_loss: 8.28561019897461\n",
      "Epoch: 150 Train_loss: 8.278849601745605 Val_loss: 8.24316120147705\n",
      "Epoch: 151 Train_loss: 8.238767623901367 Val_loss: 8.238666534423828\n",
      "Epoch: 152 Train_loss: 8.217307090759277 Val_loss: 8.217822074890137\n",
      "Epoch: 153 Train_loss: 8.202648162841797 Val_loss: 8.177628517150879\n",
      "Epoch: 154 Train_loss: 8.189504623413086 Val_loss: 8.167308807373047\n",
      "Epoch: 155 Train_loss: 8.145344734191895 Val_loss: 8.136298179626465\n",
      "Epoch: 156 Train_loss: 8.118887901306152 Val_loss: 8.109997749328613\n",
      "Epoch: 157 Train_loss: 8.092069625854492 Val_loss: 8.069931983947754\n",
      "Epoch: 158 Train_loss: 8.063444137573242 Val_loss: 8.044437408447266\n",
      "Epoch: 159 Train_loss: 8.031010627746582 Val_loss: 8.038739204406738\n",
      "Epoch: 160 Train_loss: 7.996180534362793 Val_loss: 7.983441352844238\n",
      "Epoch: 161 Train_loss: 7.995321273803711 Val_loss: 7.958327293395996\n",
      "Epoch: 162 Train_loss: 7.945793628692627 Val_loss: 7.927807807922363\n",
      "Epoch: 163 Train_loss: 7.924356937408447 Val_loss: 7.894526958465576\n",
      "Epoch: 164 Train_loss: 7.896195411682129 Val_loss: 7.869785308837891\n",
      "Epoch: 165 Train_loss: 7.86014461517334 Val_loss: 7.8392486572265625\n",
      "Epoch: 166 Train_loss: 7.814903736114502 Val_loss: 7.798325061798096\n",
      "Epoch: 167 Train_loss: 7.806005477905273 Val_loss: 7.772694110870361\n",
      "Epoch: 168 Train_loss: 7.766097068786621 Val_loss: 7.755066394805908\n",
      "Epoch: 169 Train_loss: 7.74560022354126 Val_loss: 7.7299275398254395\n",
      "Epoch: 170 Train_loss: 7.704664707183838 Val_loss: 7.693053722381592\n",
      "Epoch: 171 Train_loss: 7.672121524810791 Val_loss: 7.655699729919434\n",
      "Epoch: 172 Train_loss: 7.642529010772705 Val_loss: 7.631520748138428\n",
      "Epoch: 173 Train_loss: 7.631737232208252 Val_loss: 7.606724262237549\n",
      "Epoch: 174 Train_loss: 7.5869035720825195 Val_loss: 7.5625810623168945\n",
      "Epoch: 175 Train_loss: 7.552168369293213 Val_loss: 7.534077167510986\n",
      "Epoch: 176 Train_loss: 7.53312873840332 Val_loss: 7.5238037109375\n",
      "Epoch: 177 Train_loss: 7.477148056030273 Val_loss: 7.464713096618652\n",
      "Epoch: 178 Train_loss: 7.450451850891113 Val_loss: 7.446552276611328\n",
      "Epoch: 179 Train_loss: 7.419022083282471 Val_loss: 7.400766372680664\n",
      "Epoch: 180 Train_loss: 7.391325950622559 Val_loss: 7.355772018432617\n",
      "Epoch: 181 Train_loss: 7.354024887084961 Val_loss: 7.329320907592773\n",
      "Epoch: 182 Train_loss: 7.327775478363037 Val_loss: 7.30552339553833\n",
      "Epoch: 183 Train_loss: 7.28256368637085 Val_loss: 7.277764797210693\n",
      "Epoch: 184 Train_loss: 7.252867221832275 Val_loss: 7.245937824249268\n",
      "Epoch: 185 Train_loss: 7.222030162811279 Val_loss: 7.210373401641846\n",
      "Epoch: 186 Train_loss: 7.193759441375732 Val_loss: 7.204871654510498\n",
      "Epoch: 187 Train_loss: 7.2526068687438965 Val_loss: 7.1526780128479\n",
      "Epoch: 188 Train_loss: 7.121048450469971 Val_loss: 7.135509490966797\n",
      "Epoch: 189 Train_loss: 7.0898003578186035 Val_loss: 7.05975866317749\n",
      "Epoch: 190 Train_loss: 7.05081844329834 Val_loss: 7.033342361450195\n",
      "Epoch: 191 Train_loss: 7.021107196807861 Val_loss: 7.013671875\n",
      "Epoch: 192 Train_loss: 6.994759559631348 Val_loss: 6.9447407722473145\n",
      "Epoch: 193 Train_loss: 6.949609756469727 Val_loss: 6.934891700744629\n",
      "Epoch: 194 Train_loss: 6.9142374992370605 Val_loss: 6.910801887512207\n",
      "Epoch: 195 Train_loss: 6.896327495574951 Val_loss: 6.8466796875\n",
      "Epoch: 196 Train_loss: 6.853880882263184 Val_loss: 6.845736503601074\n",
      "Epoch: 197 Train_loss: 6.813968181610107 Val_loss: 6.821117401123047\n",
      "Epoch: 198 Train_loss: 6.774648666381836 Val_loss: 6.756066799163818\n",
      "Epoch: 199 Train_loss: 6.741754531860352 Val_loss: 6.717469692230225\n",
      "Epoch: 200 Train_loss: 6.7045578956604 Val_loss: 6.681210994720459\n",
      "Epoch: 201 Train_loss: 6.667025089263916 Val_loss: 6.668144226074219\n",
      "Epoch: 202 Train_loss: 6.640207290649414 Val_loss: 6.624145030975342\n",
      "Epoch: 203 Train_loss: 6.605936050415039 Val_loss: 6.581101894378662\n",
      "Epoch: 204 Train_loss: 6.5663604736328125 Val_loss: 6.561611652374268\n",
      "Epoch: 205 Train_loss: 6.523308753967285 Val_loss: 6.494577407836914\n",
      "Epoch: 206 Train_loss: 6.4930901527404785 Val_loss: 6.470272541046143\n",
      "Epoch: 207 Train_loss: 6.478315830230713 Val_loss: 6.43776798248291\n",
      "Epoch: 208 Train_loss: 6.438842296600342 Val_loss: 6.40775728225708\n",
      "Epoch: 209 Train_loss: 6.389307975769043 Val_loss: 6.365036964416504\n",
      "Epoch: 210 Train_loss: 6.363040924072266 Val_loss: 6.318127155303955\n",
      "Epoch: 211 Train_loss: 6.316468238830566 Val_loss: 6.289936065673828\n",
      "Epoch: 212 Train_loss: 6.284669876098633 Val_loss: 6.248980522155762\n",
      "Epoch: 213 Train_loss: 6.252264499664307 Val_loss: 6.202277660369873\n",
      "Epoch: 214 Train_loss: 6.215503692626953 Val_loss: 6.188169002532959\n",
      "Epoch: 215 Train_loss: 6.1745805740356445 Val_loss: 6.15745210647583\n",
      "Epoch: 216 Train_loss: 6.135629177093506 Val_loss: 6.09929895401001\n",
      "Epoch: 217 Train_loss: 6.101929664611816 Val_loss: 6.059536457061768\n",
      "Epoch: 218 Train_loss: 6.130067348480225 Val_loss: 6.029084205627441\n",
      "Epoch: 219 Train_loss: 6.050965785980225 Val_loss: 6.0037360191345215\n",
      "Epoch: 220 Train_loss: 5.990373611450195 Val_loss: 5.981356620788574\n",
      "Epoch: 221 Train_loss: 5.945047378540039 Val_loss: 5.940670967102051\n",
      "Epoch: 222 Train_loss: 5.918967247009277 Val_loss: 5.898560523986816\n",
      "Epoch: 223 Train_loss: 5.8956379890441895 Val_loss: 5.857571125030518\n",
      "Epoch: 224 Train_loss: 5.849308490753174 Val_loss: 5.7969207763671875\n",
      "Epoch: 225 Train_loss: 5.815103054046631 Val_loss: 5.79263162612915\n",
      "Epoch: 226 Train_loss: 5.767573833465576 Val_loss: 5.763824462890625\n",
      "Epoch: 227 Train_loss: 5.7353434562683105 Val_loss: 5.715490341186523\n",
      "Epoch: 228 Train_loss: 5.71670389175415 Val_loss: 5.677234649658203\n",
      "Epoch: 229 Train_loss: 5.672449111938477 Val_loss: 5.6500139236450195\n",
      "Epoch: 230 Train_loss: 5.6411261558532715 Val_loss: 5.637449264526367\n",
      "Epoch: 231 Train_loss: 5.585562705993652 Val_loss: 5.571702003479004\n",
      "Epoch: 232 Train_loss: 5.549488544464111 Val_loss: 5.536177635192871\n",
      "Epoch: 233 Train_loss: 5.534377574920654 Val_loss: 5.511383056640625\n",
      "Epoch: 234 Train_loss: 5.490168571472168 Val_loss: 5.48560094833374\n",
      "Epoch: 235 Train_loss: 5.468569278717041 Val_loss: 5.441677570343018\n",
      "Epoch: 236 Train_loss: 5.411625862121582 Val_loss: 5.392256259918213\n",
      "Epoch: 237 Train_loss: 5.380097389221191 Val_loss: 5.347785472869873\n",
      "Epoch: 238 Train_loss: 5.345085620880127 Val_loss: 5.3307952880859375\n",
      "Epoch: 239 Train_loss: 5.318049430847168 Val_loss: 5.314212799072266\n",
      "Epoch: 240 Train_loss: 5.282342910766602 Val_loss: 5.240331172943115\n"
     ]
    },
    {
     "name": "stdout",
     "output_type": "stream",
     "text": [
      "Epoch: 241 Train_loss: 5.244253158569336 Val_loss: 5.207347393035889\n",
      "Epoch: 242 Train_loss: 5.2261962890625 Val_loss: 5.183277130126953\n",
      "Epoch: 243 Train_loss: 5.203444957733154 Val_loss: 5.157878875732422\n",
      "Epoch: 244 Train_loss: 5.145395755767822 Val_loss: 5.133691787719727\n",
      "Epoch: 245 Train_loss: 5.107692718505859 Val_loss: 5.112475872039795\n",
      "Epoch: 246 Train_loss: 5.078869342803955 Val_loss: 5.063713073730469\n",
      "Epoch: 247 Train_loss: 5.043224334716797 Val_loss: 5.024939060211182\n",
      "Epoch: 248 Train_loss: 5.013659954071045 Val_loss: 5.003342151641846\n",
      "Epoch: 249 Train_loss: 4.997070789337158 Val_loss: 4.9601006507873535\n",
      "Epoch: 250 Train_loss: 4.945926189422607 Val_loss: 4.910720348358154\n",
      "Epoch: 251 Train_loss: 4.937302112579346 Val_loss: 4.903592109680176\n",
      "Epoch: 252 Train_loss: 4.895185947418213 Val_loss: 4.861097812652588\n",
      "Epoch: 253 Train_loss: 4.874495506286621 Val_loss: 4.843328475952148\n",
      "Epoch: 254 Train_loss: 4.829924583435059 Val_loss: 4.810204982757568\n",
      "Epoch: 255 Train_loss: 4.853228569030762 Val_loss: 4.752222537994385\n",
      "Epoch: 256 Train_loss: 4.7505950927734375 Val_loss: 4.743025779724121\n",
      "Epoch: 257 Train_loss: 4.7209792137146 Val_loss: 4.705654144287109\n",
      "Epoch: 258 Train_loss: 4.7134294509887695 Val_loss: 4.705007553100586\n",
      "Epoch: 259 Train_loss: 4.659465312957764 Val_loss: 4.668444633483887\n",
      "Epoch: 260 Train_loss: 4.636845111846924 Val_loss: 4.621232509613037\n",
      "Epoch: 261 Train_loss: 4.638113021850586 Val_loss: 4.587976932525635\n",
      "Epoch: 262 Train_loss: 4.586367607116699 Val_loss: 4.5737152099609375\n",
      "Epoch: 263 Train_loss: 4.549249649047852 Val_loss: 4.586752414703369\n",
      "Epoch: 264 Train_loss: 4.545676231384277 Val_loss: 4.5212860107421875\n",
      "Epoch: 265 Train_loss: 4.48084020614624 Val_loss: 4.504299640655518\n",
      "Epoch: 266 Train_loss: 4.463218688964844 Val_loss: 4.435139179229736\n",
      "Epoch: 267 Train_loss: 4.459625720977783 Val_loss: 4.4619855880737305\n",
      "Epoch: 268 Train_loss: 4.445383071899414 Val_loss: 4.393294811248779\n",
      "Epoch: 269 Train_loss: 4.390419960021973 Val_loss: 4.379396438598633\n",
      "Epoch: 270 Train_loss: 4.391534805297852 Val_loss: 4.359800338745117\n",
      "Epoch: 271 Train_loss: 4.3680315017700195 Val_loss: 4.342861652374268\n",
      "Epoch: 272 Train_loss: 4.329408168792725 Val_loss: 4.2859954833984375\n",
      "Epoch: 273 Train_loss: 4.297860145568848 Val_loss: 4.312685966491699\n",
      "Epoch: 274 Train_loss: 4.317285537719727 Val_loss: 4.302433490753174\n",
      "Epoch: 275 Train_loss: 4.280959129333496 Val_loss: 4.232780933380127\n",
      "Epoch: 276 Train_loss: 4.251885414123535 Val_loss: 4.197786808013916\n",
      "Epoch: 277 Train_loss: 4.208366870880127 Val_loss: 4.178079128265381\n",
      "Epoch: 278 Train_loss: 4.193025588989258 Val_loss: 4.2313232421875\n",
      "Epoch: 279 Train_loss: 4.178870677947998 Val_loss: 4.173614978790283\n",
      "Epoch: 280 Train_loss: 4.136824131011963 Val_loss: 4.179051399230957\n",
      "Epoch: 281 Train_loss: 4.135108947753906 Val_loss: 4.1102423667907715\n",
      "Epoch: 282 Train_loss: 4.102063179016113 Val_loss: 4.098422050476074\n",
      "Epoch: 283 Train_loss: 4.098440170288086 Val_loss: 4.085556983947754\n",
      "Epoch: 284 Train_loss: 4.083099365234375 Val_loss: 4.070444583892822\n",
      "Epoch: 285 Train_loss: 4.049235820770264 Val_loss: 4.057457447052002\n",
      "Epoch: 286 Train_loss: 4.054078578948975 Val_loss: 4.083189010620117\n",
      "Epoch: 287 Train_loss: 4.0419511795043945 Val_loss: 4.021054267883301\n",
      "Epoch: 288 Train_loss: 4.065874099731445 Val_loss: 4.03451681137085\n",
      "Epoch: 289 Train_loss: 4.030158042907715 Val_loss: 4.028258800506592\n",
      "Epoch: 290 Train_loss: 3.985283136367798 Val_loss: 3.9638309478759766\n",
      "Epoch: 291 Train_loss: 3.9786386489868164 Val_loss: 3.991946220397949\n",
      "Epoch: 292 Train_loss: 3.9671623706817627 Val_loss: 3.9464778900146484\n",
      "Epoch: 293 Train_loss: 3.979029417037964 Val_loss: 3.922057628631592\n",
      "Epoch: 294 Train_loss: 3.9152369499206543 Val_loss: 3.9257538318634033\n",
      "Epoch: 295 Train_loss: 3.9177324771881104 Val_loss: 3.8828182220458984\n",
      "Epoch: 296 Train_loss: 3.9672317504882812 Val_loss: 3.8957815170288086\n",
      "Epoch: 297 Train_loss: 3.9247517585754395 Val_loss: 3.9112958908081055\n",
      "Epoch: 298 Train_loss: 3.901799201965332 Val_loss: 3.885427951812744\n",
      "Epoch: 299 Train_loss: 3.853633403778076 Val_loss: 3.8527989387512207\n",
      "Epoch: 300 Train_loss: 3.8628294467926025 Val_loss: 3.8659098148345947\n",
      "Epoch: 301 Train_loss: 3.85323429107666 Val_loss: 3.84477162361145\n",
      "Epoch: 302 Train_loss: 3.8229634761810303 Val_loss: 3.8304829597473145\n",
      "Epoch: 303 Train_loss: 3.817814588546753 Val_loss: 3.826967239379883\n",
      "Epoch: 304 Train_loss: 3.853713274002075 Val_loss: 3.7734055519104004\n",
      "Epoch: 305 Train_loss: 3.817699432373047 Val_loss: 3.7890572547912598\n",
      "Epoch: 306 Train_loss: 3.8152880668640137 Val_loss: 3.796138048171997\n",
      "Epoch: 307 Train_loss: 3.787501811981201 Val_loss: 3.7647769451141357\n",
      "Epoch: 308 Train_loss: 3.8308680057525635 Val_loss: 3.7808709144592285\n",
      "\n",
      "The training is terminated to avoid overfitting.\n",
      "\n",
      "The time of execution is: 14.474374500910441 minutes\n"
     ]
    }
   ],
   "source": [
    "# train the model\n",
    "criterion = nn.MSELoss() # set the loss function\n",
    "optimizer = torch.optim.Adam(model.parameters(), lr = 0.001)\n",
    "# define an early stopping function\n",
    "def early_stopping(losses, patience = 3):\n",
    "  \"\"\"This early stopping function stops training if the validation\n",
    "  loss does not improve after 3 consecutive epochs\"\"\"\n",
    "  if len(losses) > patience:\n",
    "    if losses[-1] >= max(losses[-1-patience:-1]):\n",
    "      return True\n",
    "  return False\n",
    "\n",
    "epochs = 500\n",
    "train_loss = []\n",
    "val_loss = []\n",
    "\n",
    "start_time = time.time()\n",
    "\n",
    "for i in range(epochs):\n",
    "  i += 1\n",
    "  y_pred_train = model(cat_train, con_train)\n",
    "  loss_a = torch.sqrt(criterion(y_pred_train, y_train))\n",
    "  train_loss.append(loss_a.detach().numpy())\n",
    "  optimizer.zero_grad()\n",
    "  loss_a.backward()\n",
    "  optimizer.step()\n",
    "\n",
    "  with torch.no_grad():\n",
    "    y_pred_val = model(cat_val, con_val)\n",
    "    loss_b = torch.sqrt(criterion(y_pred_val, y_val))\n",
    "    val_loss.append(loss_b.detach().numpy())\n",
    "\n",
    "  early_stop = early_stopping(val_loss, patience = 3)\n",
    "\n",
    "  if early_stop:\n",
    "      print('\\nThe training is terminated to avoid overfitting.')\n",
    "      break\n",
    "\n",
    "  print(f'Epoch: {i} Train_loss: {loss_a} Val_loss: {loss_b}')\n",
    "\n",
    "end_time = time.time()\n",
    "\n",
    "# calculate the execution time\n",
    "print(f'\\nThe time of execution is: {(end_time - start_time) / 60} minutes')"
   ]
  },
  {
   "cell_type": "code",
   "execution_count": 54,
   "metadata": {
    "colab": {
     "base_uri": "https://localhost:8080/",
     "height": 696
    },
    "executionInfo": {
     "elapsed": 881,
     "status": "ok",
     "timestamp": 1686651930885,
     "user": {
      "displayName": "Sofiane Ikkour",
      "userId": "12163968403439377340"
     },
     "user_tz": -120
    },
    "id": "Ls1NYTDEFc8R",
    "outputId": "e6bcfb98-6be9-4405-9e41-54fb8a4a9c3a"
   },
   "outputs": [
    {
     "data": {
      "image/png": "[encoded data removed]",
      "text/plain": [
       "<Figure size 1400x800 with 1 Axes>"
      ]
     },
     "metadata": {},
     "output_type": "display_data"
    }
   ],
   "source": [
    "# plot the loss\n",
    "plt.figure(figsize = (14,8))\n",
    "plt.plot(range(i), train_loss, label = 'train_loss', color = 'blue')\n",
    "plt.plot(range(i), val_loss, label = 'val_loss', color = 'orange')\n",
    "plt.xlabel('Epoch')\n",
    "plt.ylabel('Loss')\n",
    "plt.legend()\n",
    "plt.show()"
   ]
  },
  {
   "cell_type": "code",
   "execution_count": 55,
   "metadata": {
    "colab": {
     "base_uri": "https://localhost:8080/"
    },
    "executionInfo": {
     "elapsed": 268,
     "status": "ok",
     "timestamp": 1686651488234,
     "user": {
      "displayName": "Sofiane Ikkour",
      "userId": "12163968403439377340"
     },
     "user_tz": -120
    },
    "id": "hwP7Af5PNzom",
    "outputId": "8ba2a175-6df7-4006-9ef8-8a2b657addac"
   },
   "outputs": [
    {
     "data": {
      "text/plain": [
       "3.79360294342041"
      ]
     },
     "execution_count": 55,
     "metadata": {},
     "output_type": "execute_result"
    }
   ],
   "source": [
    "# test the model on the test data\n",
    "with torch.no_grad():\n",
    "  y_pred_test = model(cat_test, con_test)\n",
    "  loss = torch.sqrt(criterion(y_pred_test, y_test))\n",
    "loss.item()"
   ]
  },
  {
   "cell_type": "markdown",
   "metadata": {
    "id": "WvGHOWI8Q-4a"
   },
   "source": [
    "**Conclusion:**  \n",
    "The use of a neural network with two hidden layers proved to be efficient enough to get an RMSE score lower than 5. The embedding technique helped the model learn more about the relationships between the inputs and reduce the dimensionality of the data as well. I added a dropout layer with a value of 0.4 which helped the model to avoid overfitting after 308 epochs. I spent considerable time on optimizing the hyperparameters and trying several machine learning techniques before sticking to the final result which is an RSME score of 3.79. Of course, this result can still be improved.  "
   ]
  }
 ],
 "metadata": {
  "colab": {
   "authorship_tag": "ABX9TyNe2J05uW1WC2CZ4vufIdAB",
   "provenance": []
  },
  "kernelspec": {
   "display_name": "Python 3 (ipykernel)",
   "language": "python",
   "name": "python3"
  },
  "language_info": {
   "codemirror_mode": {
    "name": "ipython",
    "version": 3
   },
   "file_extension": ".py",
   "mimetype": "text/x-python",
   "name": "python",
   "nbconvert_exporter": "python",
   "pygments_lexer": "ipython3",
   "version": "3.10.9"
  }
 },
 "nbformat": 4,
 "nbformat_minor": 1
}
